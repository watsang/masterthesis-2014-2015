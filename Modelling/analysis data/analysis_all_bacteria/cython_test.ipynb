{
 "metadata": {
  "name": "cython_test.ipynb"
 },
 "nbformat": 3,
 "nbformat_minor": 0,
 "worksheets": [
  {
   "cells": [
    {
     "cell_type": "code",
     "collapsed": false,
     "input": [
      "%load_ext cythonmagic\n"
     ],
     "language": "python",
     "metadata": {},
     "outputs": [],
     "prompt_number": 2
    },
    {
     "cell_type": "code",
     "collapsed": false,
     "input": [
      "%%cython\n",
      "cimport numpy as np\n",
      "import numpy as np\n",
      "import pandas as pd"
     ],
     "language": "python",
     "metadata": {},
     "outputs": [],
     "prompt_number": 3
    },
    {
     "cell_type": "code",
     "collapsed": false,
     "input": [
      "# Set working directory\n",
      "%cd \"D:\\univ\\2014-2015\\thesis\\KERMIT\\bacterial similarity\\data mining\""
     ],
     "language": "python",
     "metadata": {},
     "outputs": [
      {
       "output_type": "stream",
       "stream": "stdout",
       "text": [
        "D:\\univ\\2014-2015\\thesis\\KERMIT\\bacterial similarity\\data mining\n"
       ]
      }
     ],
     "prompt_number": 4
    },
    {
     "cell_type": "code",
     "collapsed": false,
     "input": [
      "organism_folder = \"data_organism_reactions/\""
     ],
     "language": "python",
     "metadata": {},
     "outputs": [],
     "prompt_number": 5
    },
    {
     "cell_type": "code",
     "collapsed": false,
     "input": [
      "loc_organism = organism_folder + 'restricted_organism_matrix.csv'\n",
      "names_bacteria = pd.read_csv(loc_organism, index_col= 0)"
     ],
     "language": "python",
     "metadata": {},
     "outputs": [],
     "prompt_number": 6
    },
    {
     "cell_type": "code",
     "collapsed": false,
     "input": [
      "names_bacteria['loc'] = map(lambda x: organism_folder + \"Stoichiometric Matrices/\" + str(x) + \".txt\", names_bacteria.code_name)\n"
     ],
     "language": "python",
     "metadata": {},
     "outputs": [],
     "prompt_number": 7
    },
    {
     "cell_type": "code",
     "collapsed": false,
     "input": [
      "%%cython\n",
      "import pyximport\n",
      "pyximport.install()\n",
      "import _dot"
     ],
     "language": "python",
     "metadata": {},
     "outputs": [
      {
       "ename": "ImportError",
       "evalue": "No module named _dot",
       "output_type": "pyerr",
       "traceback": [
        "\u001b[1;31m---------------------------------------------------------------------------\u001b[0m\n\u001b[1;31mImportError\u001b[0m                               Traceback (most recent call last)",
        "\u001b[1;32m<ipython-input-112-293f0ed4f6dd>\u001b[0m in \u001b[0;36m<module>\u001b[1;34m()\u001b[0m\n\u001b[1;32m----> 1\u001b[1;33m \u001b[0mget_ipython\u001b[0m\u001b[1;33m(\u001b[0m\u001b[1;33m)\u001b[0m\u001b[1;33m.\u001b[0m\u001b[0mrun_cell_magic\u001b[0m\u001b[1;33m(\u001b[0m\u001b[1;34mu'cython'\u001b[0m\u001b[1;33m,\u001b[0m \u001b[1;34mu''\u001b[0m\u001b[1;33m,\u001b[0m \u001b[1;34mu'import pyximport\\npyximport.install()\\nimport _dot'\u001b[0m\u001b[1;33m)\u001b[0m\u001b[1;33m\u001b[0m\u001b[0m\n\u001b[0m",
        "\u001b[1;32mC:\\Users\\Tsang\\AppData\\Local\\Enthought\\Canopy\\App\\appdata\\canopy-1.4.1.1975.win-x86_64\\lib\\site-packages\\IPython\\core\\interactiveshell.pyc\u001b[0m in \u001b[0;36mrun_cell_magic\u001b[1;34m(self, magic_name, line, cell)\u001b[0m\n\u001b[0;32m   2120\u001b[0m             \u001b[0mmagic_arg_s\u001b[0m \u001b[1;33m=\u001b[0m \u001b[0mself\u001b[0m\u001b[1;33m.\u001b[0m\u001b[0mvar_expand\u001b[0m\u001b[1;33m(\u001b[0m\u001b[0mline\u001b[0m\u001b[1;33m,\u001b[0m \u001b[0mstack_depth\u001b[0m\u001b[1;33m)\u001b[0m\u001b[1;33m\u001b[0m\u001b[0m\n\u001b[0;32m   2121\u001b[0m             \u001b[1;32mwith\u001b[0m \u001b[0mself\u001b[0m\u001b[1;33m.\u001b[0m\u001b[0mbuiltin_trap\u001b[0m\u001b[1;33m:\u001b[0m\u001b[1;33m\u001b[0m\u001b[0m\n\u001b[1;32m-> 2122\u001b[1;33m                 \u001b[0mresult\u001b[0m \u001b[1;33m=\u001b[0m \u001b[0mfn\u001b[0m\u001b[1;33m(\u001b[0m\u001b[0mmagic_arg_s\u001b[0m\u001b[1;33m,\u001b[0m \u001b[0mcell\u001b[0m\u001b[1;33m)\u001b[0m\u001b[1;33m\u001b[0m\u001b[0m\n\u001b[0m\u001b[0;32m   2123\u001b[0m             \u001b[1;32mreturn\u001b[0m \u001b[0mresult\u001b[0m\u001b[1;33m\u001b[0m\u001b[0m\n\u001b[0;32m   2124\u001b[0m \u001b[1;33m\u001b[0m\u001b[0m\n",
        "\u001b[1;32mC:\\Users\\Tsang\\AppData\\Local\\Enthought\\Canopy\\App\\appdata\\canopy-1.4.1.1975.win-x86_64\\lib\\site-packages\\IPython\\extensions\\cythonmagic.pyc\u001b[0m in \u001b[0;36mcython\u001b[1;34m(self, line, cell)\u001b[0m\n",
        "\u001b[1;32mC:\\Users\\Tsang\\AppData\\Local\\Enthought\\Canopy\\App\\appdata\\canopy-1.4.1.1975.win-x86_64\\lib\\site-packages\\IPython\\core\\magic.pyc\u001b[0m in \u001b[0;36m<lambda>\u001b[1;34m(f, *a, **k)\u001b[0m\n\u001b[0;32m    189\u001b[0m     \u001b[1;31m# but it's overkill for just that one bit of state.\u001b[0m\u001b[1;33m\u001b[0m\u001b[1;33m\u001b[0m\u001b[0m\n\u001b[0;32m    190\u001b[0m     \u001b[1;32mdef\u001b[0m \u001b[0mmagic_deco\u001b[0m\u001b[1;33m(\u001b[0m\u001b[0marg\u001b[0m\u001b[1;33m)\u001b[0m\u001b[1;33m:\u001b[0m\u001b[1;33m\u001b[0m\u001b[0m\n\u001b[1;32m--> 191\u001b[1;33m         \u001b[0mcall\u001b[0m \u001b[1;33m=\u001b[0m \u001b[1;32mlambda\u001b[0m \u001b[0mf\u001b[0m\u001b[1;33m,\u001b[0m \u001b[1;33m*\u001b[0m\u001b[0ma\u001b[0m\u001b[1;33m,\u001b[0m \u001b[1;33m**\u001b[0m\u001b[0mk\u001b[0m\u001b[1;33m:\u001b[0m \u001b[0mf\u001b[0m\u001b[1;33m(\u001b[0m\u001b[1;33m*\u001b[0m\u001b[0ma\u001b[0m\u001b[1;33m,\u001b[0m \u001b[1;33m**\u001b[0m\u001b[0mk\u001b[0m\u001b[1;33m)\u001b[0m\u001b[1;33m\u001b[0m\u001b[0m\n\u001b[0m\u001b[0;32m    192\u001b[0m \u001b[1;33m\u001b[0m\u001b[0m\n\u001b[0;32m    193\u001b[0m         \u001b[1;32mif\u001b[0m \u001b[0mcallable\u001b[0m\u001b[1;33m(\u001b[0m\u001b[0marg\u001b[0m\u001b[1;33m)\u001b[0m\u001b[1;33m:\u001b[0m\u001b[1;33m\u001b[0m\u001b[0m\n",
        "\u001b[1;32mC:\\Users\\Tsang\\AppData\\Local\\Enthought\\Canopy\\App\\appdata\\canopy-1.4.1.1975.win-x86_64\\lib\\site-packages\\IPython\\extensions\\cythonmagic.pyc\u001b[0m in \u001b[0;36mcython\u001b[1;34m(self, line, cell)\u001b[0m\n\u001b[0;32m    261\u001b[0m             \u001b[0mself\u001b[0m\u001b[1;33m.\u001b[0m\u001b[0m_code_cache\u001b[0m\u001b[1;33m[\u001b[0m\u001b[0mkey\u001b[0m\u001b[1;33m]\u001b[0m \u001b[1;33m=\u001b[0m \u001b[0mmodule_name\u001b[0m\u001b[1;33m\u001b[0m\u001b[0m\n\u001b[0;32m    262\u001b[0m \u001b[1;33m\u001b[0m\u001b[0m\n\u001b[1;32m--> 263\u001b[1;33m         \u001b[0mmodule\u001b[0m \u001b[1;33m=\u001b[0m \u001b[0mimp\u001b[0m\u001b[1;33m.\u001b[0m\u001b[0mload_dynamic\u001b[0m\u001b[1;33m(\u001b[0m\u001b[0mmodule_name\u001b[0m\u001b[1;33m,\u001b[0m \u001b[0mmodule_path\u001b[0m\u001b[1;33m)\u001b[0m\u001b[1;33m\u001b[0m\u001b[0m\n\u001b[0m\u001b[0;32m    264\u001b[0m         \u001b[0mself\u001b[0m\u001b[1;33m.\u001b[0m\u001b[0m_import_all\u001b[0m\u001b[1;33m(\u001b[0m\u001b[0mmodule\u001b[0m\u001b[1;33m)\u001b[0m\u001b[1;33m\u001b[0m\u001b[0m\n\u001b[0;32m    265\u001b[0m \u001b[1;33m\u001b[0m\u001b[0m\n",
        "\u001b[1;32mD:\\univ\\2014-2015\\thesis\\KERMIT\\bacterial similarity\\data mining\\_cython_magic_9b26aa9abe7ddb36221986c064106de6.pyx\u001b[0m in \u001b[0;36minit _cython_magic_9b26aa9abe7ddb36221986c064106de6 (C:\\Users\\Tsang\\.ipython\\cython\\_cython_magic_9b26aa9abe7ddb36221986c064106de6.c:805)\u001b[1;34m()\u001b[0m\n",
        "\u001b[1;31mImportError\u001b[0m: No module named _dot"
       ]
      }
     ],
     "prompt_number": 112
    },
    {
     "cell_type": "code",
     "collapsed": false,
     "input": [
      "\n",
      "\n",
      "def create_frames(S1, S2):\n",
      "    \"\"\"\n",
      "    @param S1: accepts stoichiometric matrix 1\n",
      "    @param S2: accepts stoichiometric matrix 2\n",
      "    @return: returns two stoichiometric matrices where the rows:\n",
      "            * consist of the same compounds\n",
      "            * are sorted according to the index\n",
      "    \"\"\"\n",
      "    # Determine which compounds to add\n",
      "    cp_add_1 = S2.index[~S2.index.isin(S1.index)] # Find compounds not present in S1\n",
      "    cp_add_2 = S1.index[~S1.index.isin(S2.index)] # Find compounds not present in S2\n",
      "    \n",
      "    # Create matrix you want to append\n",
      "    append1 = np.zeros([len(cp_add_1), S1.shape[1]]) # Create matrix to append matrix1\n",
      "    append2 = np.zeros([len(cp_add_2), S2.shape[1]]) # Create matrix to append matrix2\n",
      "    \n",
      "    # Create frames to return\n",
      "    frame1 = S1.append(pd.DataFrame(append1, columns = S1.columns, index = cp_add_1))\n",
      "    frame2 = S2.append(pd.DataFrame(append2, columns = S2.columns, index = cp_add_2))\n",
      "\n",
      "    # Sort rowwise\n",
      "    frame1 = frame1.sort_index()\n",
      "    frame2 = frame2.sort_index()\n",
      "    \n",
      "    return frame1.values, frame2.values\n",
      "\n",
      "def CCA_matrix(list_of_S):\n",
      "    \"\"\"\n",
      "    @param list_of_S: accepts a list of locations where the stoichiometric matrices can be loaded\n",
      "    @return: returns a pd.DataFrame with all lambda values corresponding lambda values\n",
      "    \"\"\"\n",
      "    n = len(list_of_S)\n",
      "    df_CF = np.zeros([n, n])\n",
      "    for i in xrange(n):\n",
      "        S1 = pd.read_csv(list_of_S[i], index_col=0)\n",
      "        for j in xrange(n - i):\n",
      "            S2 = pd.read_csv(list_of_S[j + i],  index_col=0)\n",
      "            df_CF[i,j] = CCA(S1, S2)\n",
      "    for i in xrange(n):\n",
      "        for j in xrange(i):\n",
      "            df_CF[i, j] = df_CF[j, i]  \n",
      "       \n",
      "    return pd.DataFrame(df_CF, columns= list_of_S, index = list_of_S)\n"
     ],
     "language": "python",
     "metadata": {},
     "outputs": [],
     "prompt_number": 8
    },
    {
     "cell_type": "code",
     "collapsed": false,
     "input": [
      "%%cython\n",
      "cimport numpy as np\n",
      "import cython\n",
      "import numpy as np\n",
      "from numpy cimport float64_t, ndarray, NPY_DOUBLE, npy_intp\n",
      "\n",
      "@cython.boundscheck(False)\n",
      "@cython.wraparound(False)\n",
      "# np.ndarray[double, ndim=2] \n",
      "cdef double CCA(np.ndarray[double, ndim=2]S1, np.ndarray[double, ndim=2]S2):\n",
      "    \"\"\"\n",
      "    @param S1: accepts stoichiometric matrix 1\n",
      "    @param S2: accepts stoichiometric matrix 2\n",
      "    @return: returns the lambda value of the canonical correlation analysis (CCA)\n",
      "    \n",
      "    CCA\n",
      "    ---\n",
      "    formula:\n",
      "    [ (S1^T * S1 + I * lambda)^-1 * (S1^T * S2) * (S2^T * S2 + I * lambda)^-1 ] * (S2^T * S1) a = lambda^2 * a \n",
      "    \n",
      "    implementation:\n",
      "    term1 = (S1^T * S1 + I * lambda)^-1 \n",
      "    term2 = (S1^T * S2)\n",
      "    term3 = (S2^T * S2 + I * lambda)^-1 \n",
      "    term4 = (S2^T * S1)\n",
      "    lambda is a measure of correlation between two stoichiometric matrices\n",
      "    \n",
      "    \"\"\"\n",
      "    # Create matrices with the same compounds\n",
      "    # S1, S2 = create_frames(S1, S2)\n",
      "    # S1 = S1.values\n",
      "    # S2 = S2.values\n",
      "      \n",
      "    # Calculate CCA-measure\n",
      "    # term1 = np.dot(S1.transpose(), S1)\n",
      "    cdef np.ndarray[double, ndim=2] term1\n",
      "    term1 = np.dot(S1.T, S1)\n",
      "    term1 = np.linalg.inv(term1 + np.eye(term1.shape[0]) * .001)\n",
      "    \n",
      "    cdef np.ndarray[double, ndim=2] term2\n",
      "    term2 = np.dot(S1.transpose(), S2)\n",
      "    \n",
      "    cdef np.ndarray[double, ndim=2] term3\n",
      "    term3 = np.dot(S2.transpose(), S2)\n",
      "    term3 = np.linalg.inv(term3 + np.eye(term3.shape[0]) * .001)\n",
      "    \n",
      "    cdef np.ndarray[double, ndim=2] term4\n",
      "    term4 = term2.transpose()\n",
      "    \n",
      "    cdef np.ndarray[double, ndim=2] lambda_square\n",
      "    lambda_square = np.dot(term1, term2)\n",
      "    lambda_square = np.dot(lambda_square, term3)\n",
      "    lambda_square = np.dot(lambda_square, term4)\n",
      "    #lambda_square = np.around(lambda_square, decimals = 3)\n",
      "    # return np.sqrt(max(real(np.linalg.eig(lambda_square)[0])))\n",
      "    return np.trace(lambda_square)\n",
      "    #return S1\n",
      "\n",
      "def call_CCA(S1, S2):\n",
      "    return CCA(S1, S2)\n"
     ],
     "language": "python",
     "metadata": {},
     "outputs": [],
     "prompt_number": 132
    },
    {
     "cell_type": "code",
     "collapsed": false,
     "input": [
      "%timeit St1 = pd.read_csv(names_bacteria['loc'][0], index_col = 0)\n",
      "%timeit St2 = pd.read_csv(names_bacteria['loc'][1], index_col = 0)\n"
     ],
     "language": "python",
     "metadata": {},
     "outputs": [
      {
       "output_type": "stream",
       "stream": "stdout",
       "text": [
        "1 loops, best of 3: 298 ms per loop\n",
        "1 loops, best of 3: 301 ms per loop"
       ]
      },
      {
       "output_type": "stream",
       "stream": "stdout",
       "text": [
        "\n"
       ]
      }
     ],
     "prompt_number": 134
    },
    {
     "cell_type": "code",
     "collapsed": false,
     "input": [
      "sg1, sg2 = create_frames(St1, St2)\n",
      "sg1.shape, sg2.shape"
     ],
     "language": "python",
     "metadata": {},
     "outputs": [
      {
       "metadata": {},
       "output_type": "pyout",
       "prompt_number": 91,
       "text": [
        "((1430L, 1585L), (1430L, 1599L))"
       ]
      }
     ],
     "prompt_number": 91
    },
    {
     "cell_type": "code",
     "collapsed": false,
     "input": [
      "%timeit sg3 = call_CCA(sg1, sg2)"
     ],
     "language": "python",
     "metadata": {},
     "outputs": [
      {
       "output_type": "stream",
       "stream": "stdout",
       "text": [
        "1 loops, best of 3: 1.76 s per loop\n"
       ]
      }
     ],
     "prompt_number": 133
    },
    {
     "cell_type": "code",
     "collapsed": false,
     "input": [],
     "language": "python",
     "metadata": {},
     "outputs": []
    }
   ],
   "metadata": {}
  }
 ]
}