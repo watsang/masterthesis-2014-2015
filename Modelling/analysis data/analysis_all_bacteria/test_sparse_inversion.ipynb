{
 "metadata": {
  "name": "test_sparse_inversion.ipynb"
 },
 "nbformat": 3,
 "nbformat_minor": 0,
 "worksheets": [
  {
   "cells": [
    {
     "cell_type": "code",
     "collapsed": false,
     "input": [
      "import numpy as np\n"
     ],
     "language": "python",
     "metadata": {},
     "outputs": [],
     "prompt_number": 2
    },
    {
     "cell_type": "code",
     "collapsed": false,
     "input": [
      "row = [1, 0, 0, 0]\n",
      "m = [[1, 0, 1, -1], [-1, 0, 2, 1], [14, 14, 9, 156], [1, 33, 1, 1]]"
     ],
     "language": "python",
     "metadata": {},
     "outputs": [],
     "prompt_number": 52
    },
    {
     "cell_type": "code",
     "collapsed": false,
     "input": [
      "m = np.array(m)"
     ],
     "language": "python",
     "metadata": {},
     "outputs": [],
     "prompt_number": 48
    },
    {
     "cell_type": "code",
     "collapsed": false,
     "input": [
      "multiplication = np.cov(m)\n",
      "np.linalg.inv(multiplication +  np.eye(m.shape[0])*.01)"
     ],
     "language": "python",
     "metadata": {},
     "outputs": [
      {
       "metadata": {},
       "output_type": "pyout",
       "prompt_number": 31,
       "text": [
        "array([[  4.63137856e+00,  -2.35651481e-01,  -5.51341139e-02,\n",
        "          0.00000000e+00],\n",
        "       [ -2.35651481e-01,   6.40947386e-01,   5.38253689e-03,\n",
        "          0.00000000e+00],\n",
        "       [ -5.51341139e-02,   5.38253689e-03,   8.60491614e-04,\n",
        "         -0.00000000e+00],\n",
        "       [  0.00000000e+00,   0.00000000e+00,   0.00000000e+00,\n",
        "          1.00000000e+02]])"
       ]
      }
     ],
     "prompt_number": 31
    },
    {
     "cell_type": "code",
     "collapsed": false,
     "input": [
      "m"
     ],
     "language": "python",
     "metadata": {},
     "outputs": [
      {
       "metadata": {},
       "output_type": "pyout",
       "prompt_number": 54,
       "text": [
        "[[1, 0, 1, -1], [-1, 0, 2, 1], [14, 14, 9, 156], [1, 33, 1, 1]]"
       ]
      }
     ],
     "prompt_number": 54
    },
    {
     "cell_type": "code",
     "collapsed": false,
     "input": [
      "cov = np.cov(m)\n",
      "cov"
     ],
     "language": "python",
     "metadata": {},
     "outputs": [
      {
       "metadata": {},
       "output_type": "pyout",
       "prompt_number": 58,
       "text": [
        "array([[  9.16666667e-01,  -1.66666667e-01,  -6.04166667e+01,\n",
        "         -2.66666667e+00],\n",
        "       [ -1.66666667e-01,   1.66666667e+00,   2.11666667e+01,\n",
        "         -5.33333333e+00],\n",
        "       [ -6.04166667e+01,   2.11666667e+01,   5.16558333e+03,\n",
        "         -3.65333333e+02],\n",
        "       [ -2.66666667e+00,  -5.33333333e+00,  -3.65333333e+02,\n",
        "          2.56000000e+02]])"
       ]
      }
     ],
     "prompt_number": 58
    },
    {
     "cell_type": "code",
     "collapsed": false,
     "input": [
      "np.all(np.linalg.eigvals(m) > 0)"
     ],
     "language": "python",
     "metadata": {},
     "outputs": [
      {
       "metadata": {},
       "output_type": "pyout",
       "prompt_number": 57,
       "text": [
        "False"
       ]
      }
     ],
     "prompt_number": 57
    },
    {
     "cell_type": "code",
     "collapsed": false,
     "input": [
      "chol =  np.linalg.cholesky(cov)"
     ],
     "language": "python",
     "metadata": {},
     "outputs": [],
     "prompt_number": 61
    },
    {
     "cell_type": "code",
     "collapsed": false,
     "input": [
      "%timeit np.linalg.inv(chol)"
     ],
     "language": "python",
     "metadata": {},
     "outputs": [
      {
       "output_type": "stream",
       "stream": "stdout",
       "text": [
        "10000 loops, best of 3: 23.1 \u00b5s per loop\n"
       ]
      }
     ],
     "prompt_number": 62
    }
   ],
   "metadata": {}
  }
 ]
}