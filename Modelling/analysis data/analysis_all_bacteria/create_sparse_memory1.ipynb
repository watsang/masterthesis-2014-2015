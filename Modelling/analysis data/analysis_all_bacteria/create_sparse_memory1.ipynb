{
 "metadata": {
  "name": "create_sparse_memory.ipynb"
 },
 "nbformat": 3,
 "nbformat_minor": 0,
 "worksheets": [
  {
   "cells": [
    {
     "cell_type": "heading",
     "level": 1,
     "metadata": {},
     "source": [
      "Create sparse npy matrices"
     ]
    },
    {
     "cell_type": "code",
     "collapsed": false,
     "input": [
      "import numpy as np\n",
      "import pandas as pd\n",
      "import os"
     ],
     "language": "python",
     "metadata": {},
     "outputs": [],
     "prompt_number": 1
    },
    {
     "cell_type": "code",
     "collapsed": false,
     "input": [
      "# Set working directory\n",
      "%cd \"D:\\univ\\2014-2015\\thesis\\KERMIT\\bacterial similarity\\data mining\""
     ],
     "language": "python",
     "metadata": {},
     "outputs": [
      {
       "output_type": "stream",
       "stream": "stdout",
       "text": [
        "D:\\univ\\2014-2015\\thesis\\KERMIT\\bacterial similarity\\data mining\n"
       ]
      }
     ],
     "prompt_number": 2
    },
    {
     "cell_type": "heading",
     "level": 2,
     "metadata": {},
     "source": [
      "0) Find all stoichiometric matrices available"
     ]
    },
    {
     "cell_type": "markdown",
     "metadata": {},
     "source": [
      "Find all Stoichiometric matrices and write them to a new data_file\n",
      "If there's already a names_bacteria.csv available in your analysis of all bacteria folder, do not run these lines again!\n"
     ]
    },
    {
     "cell_type": "code",
     "collapsed": false,
     "input": [
      "organism_folder = 'data_organism_reactions/'\n",
      "stoichiometric_reactions = os.listdir('./data_organism_reactions/Stoichiometric Matrices/')\n",
      "stoichiometric_reactions = [filename for filename in stoichiometric_reactions if \".txt\" in filename]"
     ],
     "language": "python",
     "metadata": {},
     "outputs": [],
     "prompt_number": 3
    },
    {
     "cell_type": "code",
     "collapsed": false,
     "input": [
      "stoichiometric_folder_links  = map(lambda x: \"data_organism_reactions/Stoichiometric Matrices/\" + x, stoichiometric_reactions)"
     ],
     "language": "python",
     "metadata": {},
     "outputs": [],
     "prompt_number": 4
    },
    {
     "cell_type": "code",
     "collapsed": false,
     "input": [
      "def create_sparse_matrices(stoichiometric_reactions, folder_links):    \n",
      "    directory = \"data_organism_reactions/\" + \"Sparse_Stoichiometric_matrices/\"\n",
      "    if not os.path.exists(directory):\n",
      "        os.makedirs(directory)\n",
      "    reactions = []\n",
      "    compounds = []\n",
      "    \n",
      "    for file_adress, file_name in zip(folder_links, stoichiometric_reactions):\n",
      "        S = pd.read_csv(file_adress, index_col=0)\n",
      "        reactions += [S.columns.values]\n",
      "        compounds += [S.index.values]\n",
      "        S = np.int8(S.values)\n",
      "        save_name = file_name.split(\".txt\")[0] + \".npy\"\n",
      "        S = np.save(directory +  save_name, S)\n",
      "\n",
      "    dict_comp_react = pd.DataFrame([stoichiometric_reactions, reactions, compounds], index=[\"stoichiometric_matrix\", \"reactions\", \"compounds\"])\n",
      "    dict_comp_react = dict_comp_react.T\n",
      "    dict_comp_react.to_csv(directory + \"dict_comp_react.csv\", index_col=0)\n",
      "    return dict_comp_react\n",
      "        \n",
      "        "
     ],
     "language": "python",
     "metadata": {},
     "outputs": [],
     "prompt_number": 5
    },
    {
     "cell_type": "code",
     "collapsed": false,
     "input": [
      "dict_compounds_reactions = create_sparse_matrices(stoichiometric_reactions, stoichiometric_folder_links)"
     ],
     "language": "python",
     "metadata": {},
     "outputs": [],
     "prompt_number": 88
    },
    {
     "cell_type": "code",
     "collapsed": false,
     "input": [
      "directory = \"data_organism_reactions/\" + \"Sparse_Stoichiometric_matrices/\"\n",
      "dict_compounds_reactions = pd.read_csv(directory + \"dict_comp_react.csv\", index_col=0)"
     ],
     "language": "python",
     "metadata": {},
     "outputs": [],
     "prompt_number": 7
    },
    {
     "cell_type": "code",
     "collapsed": false,
     "input": [
      "npy_files = map(lambda x: x.split(\".txt\")[0] + \".npy\", dict_compounds_reactions.stoichiometric_matrix)"
     ],
     "language": "python",
     "metadata": {},
     "outputs": [],
     "prompt_number": 8
    },
    {
     "cell_type": "code",
     "collapsed": false,
     "input": [
      "directory = \"data_organism_reactions/\" + \"Sparse_Stoichiometric_matrices/\"\n",
      "npy_file_link = map(lambda x: directory + x, npy_files)"
     ],
     "language": "python",
     "metadata": {},
     "outputs": [],
     "prompt_number": 13
    },
    {
     "cell_type": "code",
     "collapsed": false,
     "input": [
      "import time\n",
      "start = time.time()\n",
      "\n",
      "dict_test = []\n",
      "\n",
      "for i in xrange(len(npy_file_link)):\n",
      "    # test = np.load(npy_file_link[i])\n",
      "    dict_test += [np.load(npy_file_link[i])]\n",
      "\n",
      "finish = time.time() - start"
     ],
     "language": "python",
     "metadata": {},
     "outputs": [],
     "prompt_number": 14
    },
    {
     "cell_type": "code",
     "collapsed": false,
     "input": [
      "finish"
     ],
     "language": "python",
     "metadata": {},
     "outputs": [
      {
       "metadata": {},
       "output_type": "pyout",
       "prompt_number": 15,
       "text": [
        "359.5750000476837"
       ]
      }
     ],
     "prompt_number": 15
    },
    {
     "cell_type": "code",
     "collapsed": false,
     "input": [
      "import time\n",
      "start = time.time() \n",
      "1+1\n",
      "b = start - time.time() \n",
      "b"
     ],
     "language": "python",
     "metadata": {},
     "outputs": [
      {
       "metadata": {},
       "output_type": "pyout",
       "prompt_number": 99,
       "text": [
        "-0.0009999275207519531"
       ]
      }
     ],
     "prompt_number": 99
    }
   ],
   "metadata": {}
  }
 ]
}