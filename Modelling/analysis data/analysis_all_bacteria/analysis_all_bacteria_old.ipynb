{
 "metadata": {
  "name": "analysis_all_bacteria.ipynb"
 },
 "nbformat": 3,
 "nbformat_minor": 0,
 "worksheets": [
  {
   "cells": [
    {
     "cell_type": "heading",
     "level": 1,
     "metadata": {},
     "source": [
      "Comparing similarity for all bacteria\n"
     ]
    },
    {
     "cell_type": "raw",
     "metadata": {},
     "source": [
      "Objective\n",
      "----------\n",
      "0) Reuse defined functions\n",
      "1) Setting up Jaccard and CCA for all 3000 bacteria based on reactions and compounds \n",
      "2) Setting up Jaccard and CCA for locations of all 3000 based on locations"
     ]
    },
    {
     "cell_type": "code",
     "collapsed": false,
     "input": [
      "import pandas as pd"
     ],
     "language": "python",
     "metadata": {},
     "outputs": [],
     "prompt_number": 1
    },
    {
     "cell_type": "code",
     "collapsed": false,
     "input": [
      "# Set working directory\n",
      "%cd \"D:\\univ\\2014-2015\\thesis\\KERMIT\\bacterial similarity\\data mining\""
     ],
     "language": "python",
     "metadata": {},
     "outputs": [
      {
       "output_type": "stream",
       "stream": "stdout",
       "text": [
        "D:\\univ\\2014-2015\\thesis\\KERMIT\\bacterial similarity\\data mining\n"
       ]
      }
     ],
     "prompt_number": 2
    },
    {
     "cell_type": "heading",
     "level": 2,
     "metadata": {},
     "source": [
      "1) similarity Jacard for all 3000 bacteria based on reactions"
     ]
    },
    {
     "cell_type": "code",
     "collapsed": false,
     "input": [
      "\n"
     ],
     "language": "python",
     "metadata": {},
     "outputs": []
    },
    {
     "cell_type": "code",
     "collapsed": false,
     "input": [],
     "language": "python",
     "metadata": {},
     "outputs": []
    },
    {
     "cell_type": "heading",
     "level": 2,
     "metadata": {},
     "source": [
      "2) similarity Jaccard based on location"
     ]
    },
    {
     "cell_type": "code",
     "collapsed": false,
     "input": [
      "def jacard_index_location(v1, v2):\n",
      "    \"\"\"\n",
      "    @param S1: vector 1 with all the locations\n",
      "    @param S2: vector 2 with all the locations\n",
      "    @return: Jacard index\n",
      "    \n",
      "    MATH description..? => only counts the number of shared locations\n",
      "             |v1 \u2229 v2|\n",
      "    Jacard = ---------\n",
      "             |v1 U v2|\n",
      "    \"\"\"\n",
      "    location_intersect = v1.isin(v2).sum()\n",
      "    location_different1 = len(v1) - location_intersect\n",
      "    location_different2 = len(v2) - location_intersect\n",
      "    \n",
      "    jacard_index = location_intersect\n",
      "    union = (location_intersect + location_different1 + location_different2 + 0.)\n",
      "    jacard_index /= union\n",
      "    return jacard_index\n",
      "\n",
      "def jacard_matrix_location(location_matrix):\n",
      "    n = location_matrix.shape[0]\n",
      "    df_jm = np.zeros([n, n])\n",
      "    column = location_matrix.columns\n",
      "    for i in xrange(n):\n",
      "        for j in xrange(i + 1):\n",
      "            vector1 = location_matrix.iloc[i,:]\n",
      "            vector2 = location_matrix.iloc[j,:]\n",
      "            vector1 = column[map(bool, vector1)]\n",
      "            vector2 = column[map(bool, vector2)]\n",
      "            df_jm[i,j] = jacard_index_location(vector1, vector2)\n",
      "    for i in xrange(n):\n",
      "        for j in xrange(n - 1 - i):\n",
      "            df_jm[i, j + 1 + i] = df_jm[j + 1 + i, i]             \n",
      "    return pd.DataFrame(df_jm, columns= location_matrix.index, index =  location_matrix.index)\n",
      "    \n",
      "    "
     ],
     "language": "python",
     "metadata": {},
     "outputs": [],
     "prompt_number": 3
    },
    {
     "cell_type": "code",
     "collapsed": false,
     "input": [
      "location_matrix = pd.read_csv('process environment/location_matrix.csv', index_col=0)"
     ],
     "language": "python",
     "metadata": {},
     "outputs": [],
     "prompt_number": 4
    },
    {
     "cell_type": "code",
     "collapsed": false,
     "input": [
      "# This function was already run once, the results are saved to jacard_matrix.csv\n",
      "# jacard_location = jacard_matrix_location(location_matrix)\n",
      "# jacard_location.to_csv('analysis_all_bacteria/jacard_matrix.csv', index_col = 0)"
     ],
     "language": "python",
     "metadata": {},
     "outputs": [],
     "prompt_number": 5
    },
    {
     "cell_type": "code",
     "collapsed": false,
     "input": [
      "jacard_location = pd.read_csv('analysis_all_bacteria/jacard_matrix.csv', index_col = 0)"
     ],
     "language": "python",
     "metadata": {},
     "outputs": [],
     "prompt_number": 7
    },
    {
     "cell_type": "code",
     "collapsed": false,
     "input": [],
     "language": "python",
     "metadata": {},
     "outputs": []
    }
   ],
   "metadata": {}
  }
 ]
}