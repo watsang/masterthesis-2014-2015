{
 "metadata": {
  "name": "jacard_comparison.ipynb"
 },
 "nbformat": 3,
 "nbformat_minor": 0,
 "worksheets": [
  {
   "cells": [
    {
     "cell_type": "heading",
     "level": 1,
     "metadata": {},
     "source": [
      "Jacard comparison\n"
     ]
    },
    {
     "cell_type": "heading",
     "level": 3,
     "metadata": {},
     "source": [
      "Objective:\n",
      "    Perform Jacard comparison for 5 bacteria of synthetic community"
     ]
    },
    {
     "cell_type": "code",
     "collapsed": false,
     "input": [
      "import pandas as pd\n",
      "import numpy as np\n",
      "import matplotlib as plt"
     ],
     "language": "python",
     "metadata": {},
     "outputs": [],
     "prompt_number": 1
    },
    {
     "cell_type": "code",
     "collapsed": false,
     "input": [
      "# Set working directory\n",
      "%cd \"D:/univ/2014-2015/thesis/KERMIT/bacterial similarity/data mining\""
     ],
     "language": "python",
     "metadata": {},
     "outputs": [
      {
       "output_type": "stream",
       "stream": "stdout",
       "text": [
        "D:\\univ\\2014-2015\\thesis\\KERMIT\\bacterial similarity\\data mining\n"
       ]
      }
     ],
     "prompt_number": 5
    },
    {
     "cell_type": "code",
     "collapsed": false,
     "input": [
      "# Define data locations\n",
      "loc_rhizobium =\"data_organism_reactions/Stoichiometric Matrices/394.7.txt\"\n",
      "loc_agro =\"data_organism_reactions/Stoichiometric Matrices/176299.3.txt\"\n",
      "loc_burkho =\"data_organism_reactions/Stoichiometric Matrices/269483.3.txt\"\n",
      "loc_para =\"data_organism_reactions/Stoichiometric Matrices/318586.5.txt\"\n",
      "loc_bacillus =\"data_organism_reactions/Stoichiometric Matrices/388400.4.txt\""
     ],
     "language": "python",
     "metadata": {},
     "outputs": [],
     "prompt_number": 6
    },
    {
     "cell_type": "code",
     "collapsed": false,
     "input": [
      "# Load Data\n",
      "df_rhizo = pd.read_csv(loc_rhizobium)\n",
      "df_agro = pd.read_csv(loc_agro)\n",
      "df_burkho = pd.read_csv(loc_burkho)\n",
      "df_para = pd.read_csv(loc_para)\n",
      "df_bacillus = pd.read_csv(loc_bacillus)\n"
     ],
     "language": "python",
     "metadata": {},
     "outputs": [],
     "prompt_number": 7
    },
    {
     "cell_type": "code",
     "collapsed": false,
     "input": [
      "# Rename first column compound\n",
      "df_rhizo = df_rhizo.rename(columns = {'Unnamed: 0': 'compound'})\n",
      "df_agro = df_agro.rename(columns = {'Unnamed: 0': 'compound'})\n",
      "df_burkho = df_burkho.rename(columns = {'Unnamed: 0': 'compound'})\n",
      "df_para = df_para.rename(columns = {'Unnamed: 0': 'compound'})\n",
      "df_bacillus = df_bacillus.rename(columns = {'Unnamed: 0': 'compound'})\n"
     ],
     "language": "python",
     "metadata": {},
     "outputs": [],
     "prompt_number": 8
    },
    {
     "cell_type": "code",
     "collapsed": false,
     "input": [
      "# Load database for compounds and reactions\n",
      "loc_compound_db = \"data_preprocessing/ModelSEED-compounds-db.csv\"\n",
      "loc_reaction_db = \"data_preprocessing/ModelSEED-reactions-db.csv\"\n",
      "df_compound = pd.read_csv(loc_compound_db)\n",
      "df_reaction= pd.read_csv(loc_reaction_db)"
     ],
     "language": "python",
     "metadata": {},
     "outputs": [],
     "prompt_number": 10
    },
    {
     "cell_type": "code",
     "collapsed": false,
     "input": [
      "# Define function to look up compound code in DATABASE and return a list with abbreviated compound names\n",
      "def switch_compounds(list_compounds):\n",
      "    \"\"\"\n",
      "    Look up compounds in database and return a list of comprehensible compound names\n",
      "    \"\"\"\n",
      "    return [df_compound.loc[df_compound.DATABASE == compound].ABBREVIATION.values[0] for compound in list_compounds]\n",
      "    "
     ],
     "language": "python",
     "metadata": {},
     "outputs": [],
     "prompt_number": 11
    },
    {
     "cell_type": "code",
     "collapsed": false,
     "input": [
      "# This compound database has duplicates so this will cause an error later on\n",
      "# Switch compound names with abbreviated ones in DATABASE\n",
      "# df_rhizo[\"compound\"] = switch_compounds(df_rhizo[\"compound\"])\n",
      "# df_agro[\"compound\"] = switch_compounds(df_agro[\"compound\"])\n",
      "# df_para[\"compound\"] = switch_compounds(df_para[\"compound\"])\n",
      "# df_burkho[\"compound\"] = switch_compounds(df_burkho[\"compound\"])\n",
      "# df_bacillus[\"compound\"] = switch_compounds(df_bacillus[\"compound\"])"
     ],
     "language": "python",
     "metadata": {},
     "outputs": [],
     "prompt_number": 12
    },
    {
     "cell_type": "code",
     "collapsed": false,
     "input": [
      "# Define stoichiometric matrices\n",
      "S_rhizo = df_rhizo.iloc[:,2:df_rhizo.shape[1]]\n",
      "S_para = df_para.iloc[:,2:df_para.shape[1]]\n",
      "S_agro = df_agro.iloc[:,2:df_agro.shape[1]]\n",
      "S_bacillus = df_bacillus.iloc[:,2:df_bacillus.shape[1]]\n",
      "S_burkho = df_burkho.iloc[:,2:df_burkho.shape[1]]"
     ],
     "language": "python",
     "metadata": {},
     "outputs": [],
     "prompt_number": 13
    },
    {
     "cell_type": "code",
     "collapsed": false,
     "input": [
      "scope = globals().keys()\n",
      "S = [SM for SM in scope if \"S_\" in SM]\n",
      "S = [SM for SM in S if isinstance(eval(SM), pd.DataFrame)]\n",
      "S"
     ],
     "language": "python",
     "metadata": {},
     "outputs": [
      {
       "metadata": {},
       "output_type": "pyout",
       "prompt_number": 14,
       "text": [
        "['S_agro', 'S_bacillus', 'S_burkho', 'S_para', 'S_rhizo']"
       ]
      }
     ],
     "prompt_number": 14
    },
    {
     "cell_type": "code",
     "collapsed": false,
     "input": [
      "# Rename indices for convenience' sake\n",
      "S_rhizo.index = df_rhizo[\"compound\"].values\n",
      "S_agro.index = df_agro[\"compound\"].values\n",
      "S_para.index = df_para[\"compound\"].values\n",
      "S_bacillus.index = df_bacillus[\"compound\"].values\n",
      "S_burkho.index = df_burkho[\"compound\"].values"
     ],
     "language": "python",
     "metadata": {},
     "outputs": [],
     "prompt_number": 15
    },
    {
     "cell_type": "code",
     "collapsed": false,
     "input": [
      "def jacard_index(S1, S2):\n",
      "    \"\"\"\n",
      "    @param S1: stoichiometric matrix not \"equalized\" with S2\n",
      "    @param S2: stoichiometric matrix not \"equalized\" with S1\n",
      "    @return: Jacard index\n",
      "    \n",
      "    MATH description..? => only counts the number of shared reactions\n",
      "             |S1 \u2229 S2|\n",
      "    Jacard = ---------\n",
      "             |S1 U S2|\n",
      "    \"\"\"\n",
      "    reaction_intersect = S2.columns.isin(S1.columns).sum()\n",
      "    reaction_different1 = S1.shape[1] - reaction_intersect\n",
      "    reaction_different2 = S2.shape[1] - reaction_intersect\n",
      "    \n",
      "    jacard_index = reaction_intersect \n",
      "    union = (reaction_intersect + reaction_different1 + reaction_different2 + 0.)\n",
      "    jacard_index /= union\n",
      "    return jacard_index\n",
      "\n",
      "def jacard_matrix(list_of_S):\n",
      "    n = len(list_of_S)\n",
      "    df_jm = np.zeros([n, n])\n",
      "    for i in xrange(n):\n",
      "        for j in xrange(n):\n",
      "            S1 = eval(list_of_S[i])\n",
      "            S2 = eval(list_of_S[j])\n",
      "            df_jm[i,j] = jacard_index(S1, S2)\n",
      "    return pd.DataFrame(df_jm, columns= list_of_S, index = list_of_S)\n",
      "    \n",
      "    "
     ],
     "language": "python",
     "metadata": {},
     "outputs": [],
     "prompt_number": 16
    },
    {
     "cell_type": "code",
     "collapsed": false,
     "input": [
      "# S_rhizo.index.isin(S_burkho.index).sum()\n",
      "jacard_index(S_rhizo, S_burkho)\n",
      "jacard_matrix(S)"
     ],
     "language": "python",
     "metadata": {},
     "outputs": [
      {
       "html": [
        "<div style=\"max-height:1000px;max-width:1500px;overflow:auto;\">\n",
        "<table border=\"1\" class=\"dataframe\">\n",
        "  <thead>\n",
        "    <tr style=\"text-align: right;\">\n",
        "      <th></th>\n",
        "      <th>S_agro</th>\n",
        "      <th>S_bacillus</th>\n",
        "      <th>S_burkho</th>\n",
        "      <th>S_para</th>\n",
        "      <th>S_rhizo</th>\n",
        "    </tr>\n",
        "  </thead>\n",
        "  <tbody>\n",
        "    <tr>\n",
        "      <th>S_agro</th>\n",
        "      <td> 1.000000</td>\n",
        "      <td> 0.594703</td>\n",
        "      <td> 0.668912</td>\n",
        "      <td> 0.700436</td>\n",
        "      <td> 0.742564</td>\n",
        "    </tr>\n",
        "    <tr>\n",
        "      <th>S_bacillus</th>\n",
        "      <td> 0.594703</td>\n",
        "      <td> 1.000000</td>\n",
        "      <td> 0.573189</td>\n",
        "      <td> 0.574847</td>\n",
        "      <td> 0.580693</td>\n",
        "    </tr>\n",
        "    <tr>\n",
        "      <th>S_burkho</th>\n",
        "      <td> 0.668912</td>\n",
        "      <td> 0.573189</td>\n",
        "      <td> 1.000000</td>\n",
        "      <td> 0.672737</td>\n",
        "      <td> 0.646909</td>\n",
        "    </tr>\n",
        "    <tr>\n",
        "      <th>S_para</th>\n",
        "      <td> 0.700436</td>\n",
        "      <td> 0.574847</td>\n",
        "      <td> 0.672737</td>\n",
        "      <td> 1.000000</td>\n",
        "      <td> 0.704310</td>\n",
        "    </tr>\n",
        "    <tr>\n",
        "      <th>S_rhizo</th>\n",
        "      <td> 0.742564</td>\n",
        "      <td> 0.580693</td>\n",
        "      <td> 0.646909</td>\n",
        "      <td> 0.704310</td>\n",
        "      <td> 1.000000</td>\n",
        "    </tr>\n",
        "  </tbody>\n",
        "</table>\n",
        "</div>"
       ],
       "metadata": {},
       "output_type": "pyout",
       "prompt_number": 17,
       "text": [
        "              S_agro  S_bacillus  S_burkho    S_para   S_rhizo\n",
        "S_agro      1.000000    0.594703  0.668912  0.700436  0.742564\n",
        "S_bacillus  0.594703    1.000000  0.573189  0.574847  0.580693\n",
        "S_burkho    0.668912    0.573189  1.000000  0.672737  0.646909\n",
        "S_para      0.700436    0.574847  0.672737  1.000000  0.704310\n",
        "S_rhizo     0.742564    0.580693  0.646909  0.704310  1.000000"
       ]
      }
     ],
     "prompt_number": 17
    },
    {
     "cell_type": "code",
     "collapsed": false,
     "input": [
      "a, b = create_frames(S_rhizo, S_burkho)"
     ],
     "language": "python",
     "metadata": {},
     "outputs": [],
     "prompt_number": 22
    },
    {
     "cell_type": "code",
     "collapsed": false,
     "input": [
      "# Jacard index is not independent of number of compounds\n",
      "sum((a == b).sum()) "
     ],
     "language": "python",
     "metadata": {},
     "outputs": [
      {
       "metadata": {},
       "output_type": "pyout",
       "prompt_number": 23,
       "text": [
        "2719218"
       ]
      }
     ],
     "prompt_number": 23
    },
    {
     "cell_type": "code",
     "collapsed": false,
     "input": [
      "(a.shape[0]*a.shape[1])"
     ],
     "language": "python",
     "metadata": {},
     "outputs": [
      {
       "metadata": {},
       "output_type": "pyout",
       "prompt_number": 24,
       "text": [
        "2722187"
       ]
      }
     ],
     "prompt_number": 24
    },
    {
     "cell_type": "code",
     "collapsed": false,
     "input": [
      "def create_frames(S1, S2):\n",
      "    \"\"\"\n",
      "    @param S1: accepts stoichiometric matrix 1\n",
      "    @param S2: accepts stoichiometric matrix 2\n",
      "    @return: returns two stoichiometric matrices where the rows:\n",
      "            * consist of the same compounds\n",
      "            * are sorted according to the index AND the reactions\n",
      "            * consist of the same reactions\n",
      "    \"\"\"\n",
      "    # Determine which compounds to add\n",
      "    cp_add_1 = S2.index[~S2.index.isin(S1.index)] # Find compounds not present in S1\n",
      "    cp_add_2 = S1.index[~S1.index.isin(S2.index)] # Find compounds not present in S2\n",
      "    \n",
      "    # Determine which reactions to add\n",
      "    reactions_add_1 = S2.columns[~S2.columns.isin(S1.columns)] # Find reactions not present in S1\n",
      "    reactions_add_2 = S1.columns[~S1.columns.isin(S2.columns)] # Find reactions not present in S2\n",
      "    \n",
      "    # Create matrix you want to append rowwise\n",
      "    append1 = np.zeros([len(cp_add_1), S1.shape[1]]) # Create matrix to append matrix1\n",
      "    append2 = np.zeros([len(cp_add_2), S2.shape[1]]) # Create matrix to append matrix2\n",
      "    \n",
      "    # Add missing compounds\n",
      "    frame1 = S1.append(pd.DataFrame(append1, columns = S1.columns, index = cp_add_1))\n",
      "    frame2 = S2.append(pd.DataFrame(append2, columns = S2.columns, index = cp_add_2))\n",
      "    \n",
      "    # Create matrix you want to append columnwise\n",
      "    append1 = np.zeros([frame1.shape[0], len(reactions_add_1)]) # Create matrix to append matrix1\n",
      "    append2 = np.zeros([frame2.shape[0], len(reactions_add_2)]) # Create matrix to append matrix2\n",
      "    \n",
      "    # Convert to pd.DataFrame to align on indices and columns\n",
      "    append1 = pd.DataFrame(append1, columns = reactions_add_1, index = frame1.index)\n",
      "    append2 = pd.DataFrame(append2, columns = reactions_add_2, index = frame2.index)    \n",
      "  \n",
      "    # Add missing reactions\n",
      "    frame1 = pd.concat([frame1, append1], axis = 1)\n",
      "    frame2 = pd.concat([frame2, append2], axis = 1)    \n",
      "    \n",
      "    # Sort rowwise\n",
      "    frame1 = frame1.sort_index()\n",
      "    frame1 = frame1.sort_index(axis = 1) # Sort columnwise\n",
      "    frame2 = frame2.sort_index()\n",
      "    frame2 = frame2.sort_index(axis = 1) # Sort columnwise\n",
      "    \n",
      "    return frame1, frame2\n",
      "\n"
     ],
     "language": "python",
     "metadata": {},
     "outputs": [],
     "prompt_number": 21
    },
    {
     "cell_type": "code",
     "collapsed": false,
     "input": [],
     "language": "python",
     "metadata": {},
     "outputs": []
    }
   ],
   "metadata": {}
  }
 ]
}