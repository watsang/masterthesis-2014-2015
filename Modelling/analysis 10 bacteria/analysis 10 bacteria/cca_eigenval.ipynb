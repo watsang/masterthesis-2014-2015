{
 "metadata": {
  "name": "cca_eigenval.ipynb"
 },
 "nbformat": 3,
 "nbformat_minor": 0,
 "worksheets": [
  {
   "cells": [
    {
     "cell_type": "heading",
     "level": 1,
     "metadata": {},
     "source": [
      "Canonical Correlation Analysis"
     ]
    },
    {
     "cell_type": "heading",
     "level": 3,
     "metadata": {},
     "source": [
      "Objective:\n",
      "    Perform CCA for 5 bacteria of synthetic community"
     ]
    },
    {
     "cell_type": "code",
     "collapsed": false,
     "input": [
      "import pandas as pd\n",
      "import numpy as np\n",
      "import matplotlib as plt\n",
      "import copy \n"
     ],
     "language": "python",
     "metadata": {},
     "outputs": [],
     "prompt_number": 1
    },
    {
     "cell_type": "code",
     "collapsed": false,
     "input": [
      "# Set working directory!!\n",
      "%cd \"D:/univ/2014-2015/thesis/KERMIT/bacterial similarity/data mining/\""
     ],
     "language": "python",
     "metadata": {},
     "outputs": [
      {
       "output_type": "stream",
       "stream": "stdout",
       "text": [
        "D:\\univ\\2014-2015\\thesis\\KERMIT\\bacterial similarity\\data mining\n"
       ]
      }
     ],
     "prompt_number": 2
    },
    {
     "cell_type": "code",
     "collapsed": false,
     "input": [
      "# Define data locations\n",
      "loc_rhizobium =\"data_organism_reactions/Stoichiometric Matrices/394.7.txt\"\n",
      "loc_agro =\"data_organism_reactions/Stoichiometric Matrices/176299.3.txt\"\n",
      "loc_burkho =\"data_organism_reactions/Stoichiometric Matrices/269483.3.txt\"\n",
      "loc_para =\"data_organism_reactions/Stoichiometric Matrices/318586.5.txt\"\n",
      "loc_bacillus =\"data_organism_reactions/Stoichiometric Matrices/388400.4.txt\""
     ],
     "language": "python",
     "metadata": {},
     "outputs": [],
     "prompt_number": 3
    },
    {
     "cell_type": "code",
     "collapsed": false,
     "input": [
      "# Load Data\n",
      "df_rhizo = pd.read_csv(loc_rhizobium)\n",
      "df_agro = pd.read_csv(loc_agro)\n",
      "df_burkho = pd.read_csv(loc_burkho)\n",
      "df_para = pd.read_csv(loc_para)\n",
      "df_bacillus = pd.read_csv(loc_bacillus)\n"
     ],
     "language": "python",
     "metadata": {},
     "outputs": [],
     "prompt_number": 4
    },
    {
     "cell_type": "code",
     "collapsed": false,
     "input": [
      "# Rename first column compound\n",
      "df_rhizo = df_rhizo.rename(columns = {'Unnamed: 0': 'compound'})\n",
      "df_agro = df_agro.rename(columns = {'Unnamed: 0': 'compound'})\n",
      "df_burkho = df_burkho.rename(columns = {'Unnamed: 0': 'compound'})\n",
      "df_para = df_para.rename(columns = {'Unnamed: 0': 'compound'})\n",
      "df_bacillus = df_bacillus.rename(columns = {'Unnamed: 0': 'compound'})\n"
     ],
     "language": "python",
     "metadata": {},
     "outputs": [],
     "prompt_number": 5
    },
    {
     "cell_type": "code",
     "collapsed": false,
     "input": [
      "# Load database for compounds and reactions\n",
      "loc_compound_db = \"data_preprocessing/ModelSEED-compounds-db.csv\"\n",
      "loc_reaction_db = \"data_preprocessing/ModelSEED-reactions-db.csv\"\n",
      "df_compound = pd.read_csv(loc_compound_db)\n",
      "df_reaction= pd.read_csv(loc_reaction_db)"
     ],
     "language": "python",
     "metadata": {},
     "outputs": [],
     "prompt_number": 6
    },
    {
     "cell_type": "code",
     "collapsed": false,
     "input": [
      "# Define function to look up compound code in DATABASE and return a list with abbreviated compound names\n",
      "def switch_compounds(list_compounds):\n",
      "    \"\"\"\n",
      "    Look up compounds in database and return a list of comprehensible compound names\n",
      "    \"\"\"\n",
      "    return [df_compound.loc[df_compound.DATABASE == compound].ABBREVIATION.values[0] for compound in list_compounds]\n",
      "    "
     ],
     "language": "python",
     "metadata": {},
     "outputs": [],
     "prompt_number": 7
    },
    {
     "cell_type": "code",
     "collapsed": false,
     "input": [
      "# This compound database has duplicates so this will cause an error later on\n",
      "# Switch compound names with abbreviated ones in DATABASE\n",
      "# df_rhizo[\"compound\"] = switch_compounds(df_rhizo[\"compound\"])\n",
      "# df_agro[\"compound\"] = switch_compounds(df_agro[\"compound\"])\n",
      "# df_para[\"compound\"] = switch_compounds(df_para[\"compound\"])\n",
      "# df_burkho[\"compound\"] = switch_compounds(df_burkho[\"compound\"])\n",
      "# df_bacillus[\"compound\"] = switch_compounds(df_bacillus[\"compound\"])"
     ],
     "language": "python",
     "metadata": {},
     "outputs": [],
     "prompt_number": 8
    },
    {
     "cell_type": "code",
     "collapsed": false,
     "input": [
      "# Define stoichiometric matrices\n",
      "S_rhizo = df_rhizo.iloc[:,2:df_rhizo.shape[1]]\n",
      "S_para = df_para.iloc[:,2:df_para.shape[1]]\n",
      "S_agro = df_agro.iloc[:,2:df_agro.shape[1]]\n",
      "S_bacillus = df_bacillus.iloc[:,2:df_bacillus.shape[1]]\n",
      "S_burkho = df_burkho.iloc[:,2:df_burkho.shape[1]]"
     ],
     "language": "python",
     "metadata": {},
     "outputs": [],
     "prompt_number": 9
    },
    {
     "cell_type": "code",
     "collapsed": false,
     "input": [
      "scope = globals().keys()\n",
      "S = [SM for SM in scope if \"S_\" in SM]\n",
      "S = [SM for SM in S if isinstance(eval(SM), pd.DataFrame)]\n",
      "S"
     ],
     "language": "python",
     "metadata": {},
     "outputs": [
      {
       "metadata": {},
       "output_type": "pyout",
       "prompt_number": 10,
       "text": [
        "['S_agro', 'S_bacillus', 'S_burkho', 'S_para', 'S_rhizo']"
       ]
      }
     ],
     "prompt_number": 10
    },
    {
     "cell_type": "code",
     "collapsed": false,
     "input": [
      "# Rename indices for convenience' sake\n",
      "S_rhizo.index = df_rhizo[\"compound\"].values\n",
      "S_agro.index = df_agro[\"compound\"].values\n",
      "S_para.index = df_para[\"compound\"].values\n",
      "S_bacillus.index = df_bacillus[\"compound\"].values\n",
      "S_burkho.index = df_burkho[\"compound\"].values"
     ],
     "language": "python",
     "metadata": {},
     "outputs": [],
     "prompt_number": 11
    },
    {
     "cell_type": "code",
     "collapsed": false,
     "input": [
      "import scipy\n",
      "\n",
      "def create_frames(S1, S2):\n",
      "    \"\"\"\n",
      "    @param S1: accepts stoichiometric matrix 1\n",
      "    @param S2: accepts stoichiometric matrix 2\n",
      "    @return: returns two stoichiometric matrices where the rows:\n",
      "            * consist of the same compounds\n",
      "            * are sorted according to the index\n",
      "    \"\"\"\n",
      "    # Determine which compounds to add\n",
      "    cp_add_1 = S2.index[~S2.index.isin(S1.index)] # Find compounds not present in S1\n",
      "    cp_add_2 = S1.index[~S1.index.isin(S2.index)] # Find compounds not present in S2\n",
      "    \n",
      "    # Create matrix you want to append\n",
      "    append1 = np.zeros([len(cp_add_1), S1.shape[1]]) # Create matrix to append matrix1\n",
      "    append2 = np.zeros([len(cp_add_2), S2.shape[1]]) # Create matrix to append matrix2\n",
      "    \n",
      "    # Create frames to return\n",
      "    frame1 = S1.append(pd.DataFrame(append1, columns = S1.columns, index = cp_add_1))\n",
      "    frame2 = S2.append(pd.DataFrame(append2, columns = S2.columns, index = cp_add_2))\n",
      "\n",
      "    # Sort rowwise\n",
      "    frame1 = frame1.sort_index()\n",
      "    frame2 = frame2.sort_index()\n",
      "    \n",
      "    return frame1, frame2\n",
      "\n",
      "def CCA(S1, S2):\n",
      "    \"\"\"\n",
      "    @param S1: accepts stoichiometric matrix 1\n",
      "    @param S2: accepts stoichiometric matrix 2\n",
      "    @return: returns the lambda value of the canonical correlation analysis (CCA)\n",
      "    \n",
      "    CCA\n",
      "    ---\n",
      "    formula:\n",
      "    [ (S1^T * S1 + I * lambda)^-1 * (S1^T * S2) * (S2^T * S2 + I * lambda)^-1 ] * (S2^T * S1) a = lambda^2 * a \n",
      "    \n",
      "    implementation:\n",
      "    term1 = (S1^T * S1 + I * lambda)^-1 \n",
      "    term2 = (S1^T * S2)\n",
      "    term3 = (S2^T * S2 + I * lambda)^-1 \n",
      "    term4 = (S2^T * S1)\n",
      "    lambda is a measure of correlation between two stoichiometric matrices\n",
      "    \n",
      "    \"\"\"\n",
      "    # Create matrices with the same compounds\n",
      "    S1, S2 = create_frames(S1, S2)\n",
      "      \n",
      "    n = S1.shape[0]\n",
      "        \n",
      "    q1, r1 = np.linalg.qr(S1)\n",
      "    q2, r2 = np.linalg.qr(S2)\n",
      "    \n",
      "    product = np.dot(q1.T, q2)\n",
      "    \n",
      "    s, d, v = np.linalg.svd(product)\n",
      "    \n",
      "    # print S1_r.shape, S2_r.shape\n",
      "    # n1 = S1.shape[1]\n",
      "    # n2 = S2.shape[0]\n",
      "    \n",
      "    # S1_r = S1_r[0:n1, 0:n1]\n",
      "    \n",
      "    # print S1_r\n",
      "    # S1_r_inv = np.linalg.inv(S1_r)\n",
      "    # S2_r_inv = np.linalg.inv(S2_r)\n",
      "    # cov1_inv = \n",
      "    # Calculate CCA-measure\n",
      "    # term1 = np.dot(S1.transpose(), S1)\n",
      "    # term1 = np.linalg.inv(term1 + np.eye(term1.shape[0]) * .001)\n",
      "    # term1 = scipy.linalg.solve(term1 + np.eye(term1.shape[0]) * .001, identity(term1.shape[0]))\n",
      "    \n",
      "    # term2 = np.dot(S1.transpose(), S2)\n",
      "    \n",
      "    # term3 = np.dot(S2.transpose(), S2)\n",
      "    # term3 = np.linalg.inv(term3 + np.eye(term3.shape[0]) * .001)\n",
      "    # term3 = scipy.linalg.solve(term3 + np.eye(term3.shape[0]) * .001, identity(term3.shape[0]))\n",
      "    \n",
      "    # term4 = np.dot(S2.transpose(), S1)\n",
      "    \n",
      "    # lambda_square = np.dot(term1, term2)\n",
      "    # lambda_square = np.dot(lambda_square, term3)\n",
      "    # lambda_square = np.dot(lambda_square, term4)\n",
      "    #lambda_square = np.around(lambda_square, decimals = 3)\n",
      "    # return np.sqrt(max(real(np.linalg.eig(lambda_square)[0])))\n",
      "    return sum(d)\n",
      "\n",
      "\n",
      "def CCA_matrix(list_of_S):\n",
      "    \"\"\"\n",
      "    @param list_of_S: accepts a list of Stoichiometric Matrices\n",
      "    @return: returns a pd.DataFrame with all lambda values corresponding lambda values\n",
      "    \"\"\"\n",
      "    n = len(list_of_S)\n",
      "    df_CF = np.zeros([n, n])\n",
      "    for i in xrange(n):\n",
      "        for j in xrange(i + 1):\n",
      "            S1 = eval(list_of_S[i])\n",
      "            S2 = eval(list_of_S[j])\n",
      "            df_CF[i,j] = CCA(S1, S2)\n",
      "    for i in xrange(n):\n",
      "        for j in xrange(n - 1 - i):\n",
      "            df_CF[i, j + 1 + i] = df_CF[j + 1 + i, i]  \n",
      "       \n",
      "    return pd.DataFrame(df_CF, columns= list_of_S, index = list_of_S)\n",
      "\n"
     ],
     "language": "python",
     "metadata": {},
     "outputs": [],
     "prompt_number": 45
    },
    {
     "cell_type": "code",
     "collapsed": false,
     "input": [
      "%timeit CCA(eval(S[0]), eval(S[1]))"
     ],
     "language": "python",
     "metadata": {},
     "outputs": [
      {
       "output_type": "stream",
       "stream": "stdout",
       "text": [
        "1 loops, best of 3: 1.89 s per loop\n"
       ]
      }
     ],
     "prompt_number": 49
    },
    {
     "cell_type": "code",
     "collapsed": false,
     "input": [
      "A = eval(S[0])\n",
      "B = eval(S[1])\n",
      "A, B = create_frames(A, B)"
     ],
     "language": "python",
     "metadata": {},
     "outputs": [],
     "prompt_number": 23
    },
    {
     "cell_type": "code",
     "collapsed": false,
     "input": [
      "q1, r1 = np.linalg.qr(A)\n",
      "q2, r2 = np.linalg.qr(B)"
     ],
     "language": "python",
     "metadata": {},
     "outputs": [],
     "prompt_number": 24
    },
    {
     "cell_type": "code",
     "collapsed": false,
     "input": [
      "product = np.dot(q1.T, q2)"
     ],
     "language": "python",
     "metadata": {},
     "outputs": [],
     "prompt_number": 27
    },
    {
     "cell_type": "code",
     "collapsed": false,
     "input": [
      "s, v, d = np.linalg.svd(product)"
     ],
     "language": "python",
     "metadata": {},
     "outputs": [],
     "prompt_number": 28
    },
    {
     "cell_type": "code",
     "collapsed": false,
     "input": [
      "np.trace(s)"
     ],
     "language": "python",
     "metadata": {},
     "outputs": [
      {
       "metadata": {},
       "output_type": "pyout",
       "prompt_number": 32,
       "text": [
        "0.017733126319213772"
       ]
      }
     ],
     "prompt_number": 32
    },
    {
     "cell_type": "code",
     "collapsed": false,
     "input": [
      "%timeit s, d, v = scipy.linalg.svd(A)"
     ],
     "language": "python",
     "metadata": {},
     "outputs": [
      {
       "output_type": "stream",
       "stream": "stdout",
       "text": [
        "1 loops, best of 3: 1.55 s per loop\n"
       ]
      }
     ],
     "prompt_number": 104
    },
    {
     "cell_type": "code",
     "collapsed": false,
     "input": [
      "A, B= create_frames(eval(S[0]), eval(S[1]))\n",
      "A.shape"
     ],
     "language": "python",
     "metadata": {},
     "outputs": [
      {
       "metadata": {},
       "output_type": "pyout",
       "prompt_number": 62,
       "text": [
        "(1424, 1610)"
       ]
      }
     ],
     "prompt_number": 62
    },
    {
     "cell_type": "code",
     "collapsed": false,
     "input": [
      "test = np.linalg.qr(A, mode = \"economic\")"
     ],
     "language": "python",
     "metadata": {},
     "outputs": [],
     "prompt_number": 86
    },
    {
     "cell_type": "code",
     "collapsed": false,
     "input": [
      "np.cov(A, rowvar=0)"
     ],
     "language": "python",
     "metadata": {},
     "outputs": [
      {
       "metadata": {},
       "output_type": "pyout",
       "prompt_number": 100,
       "text": [
        "array([[  1.53219308e-02,  -1.61225339e-03,  -4.03160822e-03, ...,\n",
        "         -4.83741000e-03,  -8.06451613e-04,   8.06451613e-04],\n",
        "       [ -1.61225339e-03,   7.25741468e-03,  -6.49840139e-07, ...,\n",
        "         -1.29968028e-06,   1.61290323e-03,  -1.61290323e-03],\n",
        "       [ -4.03160822e-03,  -6.49840139e-07,   4.03160822e-03, ...,\n",
        "          1.61160355e-03,   0.00000000e+00,   0.00000000e+00],\n",
        "       ..., \n",
        "       [ -4.83741000e-03,  -1.29968028e-06,   1.61160355e-03, ...,\n",
        "          1.12877232e-02,   0.00000000e+00,   0.00000000e+00],\n",
        "       [ -8.06451613e-04,   1.61290323e-03,   0.00000000e+00, ...,\n",
        "          0.00000000e+00,   3.22580645e-03,  -8.06451613e-04],\n",
        "       [  8.06451613e-04,  -1.61290323e-03,   0.00000000e+00, ...,\n",
        "          0.00000000e+00,  -8.06451613e-04,   3.22580645e-03]])"
       ]
      }
     ],
     "prompt_number": 100
    },
    {
     "cell_type": "code",
     "collapsed": false,
     "input": [
      "cov = np.dot(A.T, A)\n",
      "np.linalg.cholesky(cov)"
     ],
     "language": "python",
     "metadata": {},
     "outputs": [
      {
       "ename": "LinAlgError",
       "evalue": "Matrix is not positive definite",
       "output_type": "pyerr",
       "traceback": [
        "\u001b[1;31m---------------------------------------------------------------------------\u001b[0m\n\u001b[1;31mLinAlgError\u001b[0m                               Traceback (most recent call last)",
        "\u001b[1;32m<ipython-input-97-048230ce0c3b>\u001b[0m in \u001b[0;36m<module>\u001b[1;34m()\u001b[0m\n\u001b[0;32m      1\u001b[0m \u001b[0mcov\u001b[0m \u001b[1;33m=\u001b[0m \u001b[0mnp\u001b[0m\u001b[1;33m.\u001b[0m\u001b[0mdot\u001b[0m\u001b[1;33m(\u001b[0m\u001b[0mA\u001b[0m\u001b[1;33m.\u001b[0m\u001b[0mT\u001b[0m\u001b[1;33m,\u001b[0m \u001b[0mA\u001b[0m\u001b[1;33m)\u001b[0m\u001b[1;33m\u001b[0m\u001b[0m\n\u001b[1;32m----> 2\u001b[1;33m \u001b[0mnp\u001b[0m\u001b[1;33m.\u001b[0m\u001b[0mlinalg\u001b[0m\u001b[1;33m.\u001b[0m\u001b[0mcholesky\u001b[0m\u001b[1;33m(\u001b[0m\u001b[0mcov\u001b[0m\u001b[1;33m)\u001b[0m\u001b[1;33m\u001b[0m\u001b[0m\n\u001b[0m",
        "\u001b[1;32mC:\\Users\\Tsang\\AppData\\Local\\Enthought\\Canopy\\User\\lib\\site-packages\\numpy\\linalg\\linalg.pyc\u001b[0m in \u001b[0;36mcholesky\u001b[1;34m(a)\u001b[0m\n\u001b[0;32m    601\u001b[0m     \u001b[0mt\u001b[0m\u001b[1;33m,\u001b[0m \u001b[0mresult_t\u001b[0m \u001b[1;33m=\u001b[0m \u001b[0m_commonType\u001b[0m\u001b[1;33m(\u001b[0m\u001b[0ma\u001b[0m\u001b[1;33m)\u001b[0m\u001b[1;33m\u001b[0m\u001b[0m\n\u001b[0;32m    602\u001b[0m     \u001b[0msignature\u001b[0m \u001b[1;33m=\u001b[0m \u001b[1;34m'D->D'\u001b[0m \u001b[1;32mif\u001b[0m \u001b[0misComplexType\u001b[0m\u001b[1;33m(\u001b[0m\u001b[0mt\u001b[0m\u001b[1;33m)\u001b[0m \u001b[1;32melse\u001b[0m \u001b[1;34m'd->d'\u001b[0m\u001b[1;33m\u001b[0m\u001b[0m\n\u001b[1;32m--> 603\u001b[1;33m     \u001b[1;32mreturn\u001b[0m \u001b[0mwrap\u001b[0m\u001b[1;33m(\u001b[0m\u001b[0mgufunc\u001b[0m\u001b[1;33m(\u001b[0m\u001b[0ma\u001b[0m\u001b[1;33m,\u001b[0m \u001b[0msignature\u001b[0m\u001b[1;33m=\u001b[0m\u001b[0msignature\u001b[0m\u001b[1;33m,\u001b[0m \u001b[0mextobj\u001b[0m\u001b[1;33m=\u001b[0m\u001b[0mextobj\u001b[0m\u001b[1;33m)\u001b[0m\u001b[1;33m.\u001b[0m\u001b[0mastype\u001b[0m\u001b[1;33m(\u001b[0m\u001b[0mresult_t\u001b[0m\u001b[1;33m)\u001b[0m\u001b[1;33m)\u001b[0m\u001b[1;33m\u001b[0m\u001b[0m\n\u001b[0m\u001b[0;32m    604\u001b[0m \u001b[1;33m\u001b[0m\u001b[0m\n\u001b[0;32m    605\u001b[0m \u001b[1;31m# QR decompostion\u001b[0m\u001b[1;33m\u001b[0m\u001b[1;33m\u001b[0m\u001b[0m\n",
        "\u001b[1;32mC:\\Users\\Tsang\\AppData\\Local\\Enthought\\Canopy\\User\\lib\\site-packages\\numpy\\linalg\\linalg.pyc\u001b[0m in \u001b[0;36m_raise_linalgerror_nonposdef\u001b[1;34m(err, flag)\u001b[0m\n\u001b[0;32m     91\u001b[0m \u001b[1;33m\u001b[0m\u001b[0m\n\u001b[0;32m     92\u001b[0m \u001b[1;32mdef\u001b[0m \u001b[0m_raise_linalgerror_nonposdef\u001b[0m\u001b[1;33m(\u001b[0m\u001b[0merr\u001b[0m\u001b[1;33m,\u001b[0m \u001b[0mflag\u001b[0m\u001b[1;33m)\u001b[0m\u001b[1;33m:\u001b[0m\u001b[1;33m\u001b[0m\u001b[0m\n\u001b[1;32m---> 93\u001b[1;33m     \u001b[1;32mraise\u001b[0m \u001b[0mLinAlgError\u001b[0m\u001b[1;33m(\u001b[0m\u001b[1;34m\"Matrix is not positive definite\"\u001b[0m\u001b[1;33m)\u001b[0m\u001b[1;33m\u001b[0m\u001b[0m\n\u001b[0m\u001b[0;32m     94\u001b[0m \u001b[1;33m\u001b[0m\u001b[0m\n\u001b[0;32m     95\u001b[0m \u001b[1;32mdef\u001b[0m \u001b[0m_raise_linalgerror_eigenvalues_nonconvergence\u001b[0m\u001b[1;33m(\u001b[0m\u001b[0merr\u001b[0m\u001b[1;33m,\u001b[0m \u001b[0mflag\u001b[0m\u001b[1;33m)\u001b[0m\u001b[1;33m:\u001b[0m\u001b[1;33m\u001b[0m\u001b[0m\n",
        "\u001b[1;31mLinAlgError\u001b[0m: Matrix is not positive definite"
       ]
      }
     ],
     "prompt_number": 97
    },
    {
     "cell_type": "code",
     "collapsed": false,
     "input": [
      "short = test[0:1424, 0:1424]"
     ],
     "language": "python",
     "metadata": {},
     "outputs": [],
     "prompt_number": 88
    },
    {
     "cell_type": "code",
     "collapsed": false,
     "input": [
      "np.linalg.inv(short)"
     ],
     "language": "python",
     "metadata": {},
     "outputs": [
      {
       "ename": "LinAlgError",
       "evalue": "Singular matrix",
       "output_type": "pyerr",
       "traceback": [
        "\u001b[1;31m---------------------------------------------------------------------------\u001b[0m\n\u001b[1;31mLinAlgError\u001b[0m                               Traceback (most recent call last)",
        "\u001b[1;32m<ipython-input-90-d9a05f986791>\u001b[0m in \u001b[0;36m<module>\u001b[1;34m()\u001b[0m\n\u001b[1;32m----> 1\u001b[1;33m \u001b[0mnp\u001b[0m\u001b[1;33m.\u001b[0m\u001b[0mlinalg\u001b[0m\u001b[1;33m.\u001b[0m\u001b[0minv\u001b[0m\u001b[1;33m(\u001b[0m\u001b[0mshort\u001b[0m\u001b[1;33m)\u001b[0m\u001b[1;33m\u001b[0m\u001b[0m\n\u001b[0m",
        "\u001b[1;32mC:\\Users\\Tsang\\AppData\\Local\\Enthought\\Canopy\\User\\lib\\site-packages\\numpy\\linalg\\linalg.pyc\u001b[0m in \u001b[0;36minv\u001b[1;34m(a)\u001b[0m\n\u001b[0;32m    518\u001b[0m     \u001b[0msignature\u001b[0m \u001b[1;33m=\u001b[0m \u001b[1;34m'D->D'\u001b[0m \u001b[1;32mif\u001b[0m \u001b[0misComplexType\u001b[0m\u001b[1;33m(\u001b[0m\u001b[0mt\u001b[0m\u001b[1;33m)\u001b[0m \u001b[1;32melse\u001b[0m \u001b[1;34m'd->d'\u001b[0m\u001b[1;33m\u001b[0m\u001b[0m\n\u001b[0;32m    519\u001b[0m     \u001b[0mextobj\u001b[0m \u001b[1;33m=\u001b[0m \u001b[0mget_linalg_error_extobj\u001b[0m\u001b[1;33m(\u001b[0m\u001b[0m_raise_linalgerror_singular\u001b[0m\u001b[1;33m)\u001b[0m\u001b[1;33m\u001b[0m\u001b[0m\n\u001b[1;32m--> 520\u001b[1;33m     \u001b[0mainv\u001b[0m \u001b[1;33m=\u001b[0m \u001b[0m_umath_linalg\u001b[0m\u001b[1;33m.\u001b[0m\u001b[0minv\u001b[0m\u001b[1;33m(\u001b[0m\u001b[0ma\u001b[0m\u001b[1;33m,\u001b[0m \u001b[0msignature\u001b[0m\u001b[1;33m=\u001b[0m\u001b[0msignature\u001b[0m\u001b[1;33m,\u001b[0m \u001b[0mextobj\u001b[0m\u001b[1;33m=\u001b[0m\u001b[0mextobj\u001b[0m\u001b[1;33m)\u001b[0m\u001b[1;33m\u001b[0m\u001b[0m\n\u001b[0m\u001b[0;32m    521\u001b[0m     \u001b[1;32mreturn\u001b[0m \u001b[0mwrap\u001b[0m\u001b[1;33m(\u001b[0m\u001b[0mainv\u001b[0m\u001b[1;33m.\u001b[0m\u001b[0mastype\u001b[0m\u001b[1;33m(\u001b[0m\u001b[0mresult_t\u001b[0m\u001b[1;33m)\u001b[0m\u001b[1;33m)\u001b[0m\u001b[1;33m\u001b[0m\u001b[0m\n\u001b[0;32m    522\u001b[0m \u001b[1;33m\u001b[0m\u001b[0m\n",
        "\u001b[1;32mC:\\Users\\Tsang\\AppData\\Local\\Enthought\\Canopy\\User\\lib\\site-packages\\numpy\\linalg\\linalg.pyc\u001b[0m in \u001b[0;36m_raise_linalgerror_singular\u001b[1;34m(err, flag)\u001b[0m\n\u001b[0;32m     88\u001b[0m \u001b[1;33m\u001b[0m\u001b[0m\n\u001b[0;32m     89\u001b[0m \u001b[1;32mdef\u001b[0m \u001b[0m_raise_linalgerror_singular\u001b[0m\u001b[1;33m(\u001b[0m\u001b[0merr\u001b[0m\u001b[1;33m,\u001b[0m \u001b[0mflag\u001b[0m\u001b[1;33m)\u001b[0m\u001b[1;33m:\u001b[0m\u001b[1;33m\u001b[0m\u001b[0m\n\u001b[1;32m---> 90\u001b[1;33m     \u001b[1;32mraise\u001b[0m \u001b[0mLinAlgError\u001b[0m\u001b[1;33m(\u001b[0m\u001b[1;34m\"Singular matrix\"\u001b[0m\u001b[1;33m)\u001b[0m\u001b[1;33m\u001b[0m\u001b[0m\n\u001b[0m\u001b[0;32m     91\u001b[0m \u001b[1;33m\u001b[0m\u001b[0m\n\u001b[0;32m     92\u001b[0m \u001b[1;32mdef\u001b[0m \u001b[0m_raise_linalgerror_nonposdef\u001b[0m\u001b[1;33m(\u001b[0m\u001b[0merr\u001b[0m\u001b[1;33m,\u001b[0m \u001b[0mflag\u001b[0m\u001b[1;33m)\u001b[0m\u001b[1;33m:\u001b[0m\u001b[1;33m\u001b[0m\u001b[0m\n",
        "\u001b[1;31mLinAlgError\u001b[0m: Singular matrix"
       ]
      }
     ],
     "prompt_number": 90
    },
    {
     "cell_type": "code",
     "collapsed": false,
     "input": [
      "a = CCA_matrix(S)"
     ],
     "language": "python",
     "metadata": {},
     "outputs": [],
     "prompt_number": 47
    },
    {
     "cell_type": "code",
     "collapsed": false,
     "input": [
      "a # qr"
     ],
     "language": "python",
     "metadata": {},
     "outputs": [
      {
       "html": [
        "<div style=\"max-height:1000px;max-width:1500px;overflow:auto;\">\n",
        "<table border=\"1\" class=\"dataframe\">\n",
        "  <thead>\n",
        "    <tr style=\"text-align: right;\">\n",
        "      <th></th>\n",
        "      <th>S_agro</th>\n",
        "      <th>S_bacillus</th>\n",
        "      <th>S_burkho</th>\n",
        "      <th>S_para</th>\n",
        "      <th>S_rhizo</th>\n",
        "    </tr>\n",
        "  </thead>\n",
        "  <tbody>\n",
        "    <tr>\n",
        "      <th>S_agro</th>\n",
        "      <td>1241</td>\n",
        "      <td>1424</td>\n",
        "      <td>1372</td>\n",
        "      <td>1308</td>\n",
        "      <td>1347</td>\n",
        "    </tr>\n",
        "    <tr>\n",
        "      <th>S_bacillus</th>\n",
        "      <td>1424</td>\n",
        "      <td>1232</td>\n",
        "      <td>1441</td>\n",
        "      <td>1377</td>\n",
        "      <td>1440</td>\n",
        "    </tr>\n",
        "    <tr>\n",
        "      <th>S_burkho</th>\n",
        "      <td>1372</td>\n",
        "      <td>1441</td>\n",
        "      <td>1237</td>\n",
        "      <td>1306</td>\n",
        "      <td>1391</td>\n",
        "    </tr>\n",
        "    <tr>\n",
        "      <th>S_para</th>\n",
        "      <td>1308</td>\n",
        "      <td>1377</td>\n",
        "      <td>1306</td>\n",
        "      <td>1130</td>\n",
        "      <td>1287</td>\n",
        "    </tr>\n",
        "    <tr>\n",
        "      <th>S_rhizo</th>\n",
        "      <td>1347</td>\n",
        "      <td>1440</td>\n",
        "      <td>1391</td>\n",
        "      <td>1287</td>\n",
        "      <td>1222</td>\n",
        "    </tr>\n",
        "  </tbody>\n",
        "</table>\n",
        "</div>"
       ],
       "metadata": {},
       "output_type": "pyout",
       "prompt_number": 48,
       "text": [
        "            S_agro  S_bacillus  S_burkho  S_para  S_rhizo\n",
        "S_agro        1241        1424      1372    1308     1347\n",
        "S_bacillus    1424        1232      1441    1377     1440\n",
        "S_burkho      1372        1441      1237    1306     1391\n",
        "S_para        1308        1377      1306    1130     1287\n",
        "S_rhizo       1347        1440      1391    1287     1222"
       ]
      }
     ],
     "prompt_number": 48
    },
    {
     "cell_type": "code",
     "collapsed": false,
     "input": [
      "a"
     ],
     "language": "python",
     "metadata": {},
     "outputs": [
      {
       "html": [
        "<div style=\"max-height:1000px;max-width:1500px;overflow:auto;\">\n",
        "<table border=\"1\" class=\"dataframe\">\n",
        "  <thead>\n",
        "    <tr style=\"text-align: right;\">\n",
        "      <th></th>\n",
        "      <th>S_agro</th>\n",
        "      <th>S_bacillus</th>\n",
        "      <th>S_burkho</th>\n",
        "      <th>S_para</th>\n",
        "      <th>S_rhizo</th>\n",
        "    </tr>\n",
        "  </thead>\n",
        "  <tbody>\n",
        "    <tr>\n",
        "      <th>S_agro</th>\n",
        "      <td> 1176.548748</td>\n",
        "      <td>  988.189740</td>\n",
        "      <td> 1041.172882</td>\n",
        "      <td> 1014.612130</td>\n",
        "      <td> 1068.522195</td>\n",
        "    </tr>\n",
        "    <tr>\n",
        "      <th>S_bacillus</th>\n",
        "      <td>  988.189740</td>\n",
        "      <td> 1159.570570</td>\n",
        "      <td>  960.334922</td>\n",
        "      <td>  933.525397</td>\n",
        "      <td>  965.687012</td>\n",
        "    </tr>\n",
        "    <tr>\n",
        "      <th>S_burkho</th>\n",
        "      <td> 1041.172882</td>\n",
        "      <td>  960.334922</td>\n",
        "      <td> 1164.083068</td>\n",
        "      <td> 1013.229293</td>\n",
        "      <td> 1020.968714</td>\n",
        "    </tr>\n",
        "    <tr>\n",
        "      <th>S_para</th>\n",
        "      <td> 1014.612130</td>\n",
        "      <td>  933.525397</td>\n",
        "      <td> 1013.229293</td>\n",
        "      <td> 1079.420815</td>\n",
        "      <td> 1021.294864</td>\n",
        "    </tr>\n",
        "    <tr>\n",
        "      <th>S_rhizo</th>\n",
        "      <td> 1068.522195</td>\n",
        "      <td>  965.687012</td>\n",
        "      <td> 1020.968714</td>\n",
        "      <td> 1021.294864</td>\n",
        "      <td> 1170.866311</td>\n",
        "    </tr>\n",
        "  </tbody>\n",
        "</table>\n",
        "</div>"
       ],
       "metadata": {},
       "output_type": "pyout",
       "prompt_number": 16,
       "text": [
        "                 S_agro   S_bacillus     S_burkho       S_para      S_rhizo\n",
        "S_agro      1176.548748   988.189740  1041.172882  1014.612130  1068.522195\n",
        "S_bacillus   988.189740  1159.570570   960.334922   933.525397   965.687012\n",
        "S_burkho    1041.172882   960.334922  1164.083068  1013.229293  1020.968714\n",
        "S_para      1014.612130   933.525397  1013.229293  1079.420815  1021.294864\n",
        "S_rhizo     1068.522195   965.687012  1020.968714  1021.294864  1170.866311"
       ]
      }
     ],
     "prompt_number": 16
    },
    {
     "cell_type": "code",
     "collapsed": false,
     "input": [
      "plt.pyplot.pcolor(a.values)\n",
      "plt.pyplot.yticks(np.arange(0.5, len(S), 1), a.index)\n",
      "plt.pyplot.xticks(np.arange(0.5, len(S), 1), a.index)\n",
      "colorbar()"
     ],
     "language": "python",
     "metadata": {},
     "outputs": [
      {
       "ename": "AttributeError",
       "evalue": "'module' object has no attribute 'pyplot'",
       "output_type": "pyerr",
       "traceback": [
        "\u001b[1;31m---------------------------------------------------------------------------\u001b[0m\n\u001b[1;31mAttributeError\u001b[0m                            Traceback (most recent call last)",
        "\u001b[1;32m<ipython-input-1-190dd6acbdad>\u001b[0m in \u001b[0;36m<module>\u001b[1;34m()\u001b[0m\n\u001b[1;32m----> 1\u001b[1;33m \u001b[0mplt\u001b[0m\u001b[1;33m.\u001b[0m\u001b[0mpyplot\u001b[0m\u001b[1;33m.\u001b[0m\u001b[0mpcolor\u001b[0m\u001b[1;33m(\u001b[0m\u001b[0ma\u001b[0m\u001b[1;33m.\u001b[0m\u001b[0mvalues\u001b[0m\u001b[1;33m)\u001b[0m\u001b[1;33m\u001b[0m\u001b[0m\n\u001b[0m\u001b[0;32m      2\u001b[0m \u001b[0mplt\u001b[0m\u001b[1;33m.\u001b[0m\u001b[0mpyplot\u001b[0m\u001b[1;33m.\u001b[0m\u001b[0myticks\u001b[0m\u001b[1;33m(\u001b[0m\u001b[0mnp\u001b[0m\u001b[1;33m.\u001b[0m\u001b[0marange\u001b[0m\u001b[1;33m(\u001b[0m\u001b[1;36m0.5\u001b[0m\u001b[1;33m,\u001b[0m \u001b[0mlen\u001b[0m\u001b[1;33m(\u001b[0m\u001b[0mS\u001b[0m\u001b[1;33m)\u001b[0m\u001b[1;33m,\u001b[0m \u001b[1;36m1\u001b[0m\u001b[1;33m)\u001b[0m\u001b[1;33m,\u001b[0m \u001b[0ma\u001b[0m\u001b[1;33m.\u001b[0m\u001b[0mindex\u001b[0m\u001b[1;33m)\u001b[0m\u001b[1;33m\u001b[0m\u001b[0m\n\u001b[0;32m      3\u001b[0m \u001b[0mplt\u001b[0m\u001b[1;33m.\u001b[0m\u001b[0mpyplot\u001b[0m\u001b[1;33m.\u001b[0m\u001b[0mxticks\u001b[0m\u001b[1;33m(\u001b[0m\u001b[0mnp\u001b[0m\u001b[1;33m.\u001b[0m\u001b[0marange\u001b[0m\u001b[1;33m(\u001b[0m\u001b[1;36m0.5\u001b[0m\u001b[1;33m,\u001b[0m \u001b[0mlen\u001b[0m\u001b[1;33m(\u001b[0m\u001b[0mS\u001b[0m\u001b[1;33m)\u001b[0m\u001b[1;33m,\u001b[0m \u001b[1;36m1\u001b[0m\u001b[1;33m)\u001b[0m\u001b[1;33m,\u001b[0m \u001b[0ma\u001b[0m\u001b[1;33m.\u001b[0m\u001b[0mindex\u001b[0m\u001b[1;33m,\u001b[0m \u001b[0mrotation\u001b[0m \u001b[1;33m=\u001b[0m \u001b[1;36m90\u001b[0m\u001b[1;33m)\u001b[0m\u001b[1;33m\u001b[0m\u001b[0m\n\u001b[0;32m      4\u001b[0m \u001b[0mcolorbar\u001b[0m\u001b[1;33m(\u001b[0m\u001b[1;33m)\u001b[0m\u001b[1;33m\u001b[0m\u001b[0m\n",
        "\u001b[1;31mAttributeError\u001b[0m: 'module' object has no attribute 'pyplot'"
       ]
      }
     ],
     "prompt_number": 1
    },
    {
     "cell_type": "code",
     "collapsed": false,
     "input": [
      "a.index.values"
     ],
     "language": "python",
     "metadata": {},
     "outputs": [
      {
       "metadata": {},
       "output_type": "pyout",
       "prompt_number": 18,
       "text": [
        "array(['S_agro', 'S_burkho', 'S_para', 'S_rhizo', 'S_bacillus'], dtype=object)"
       ]
      }
     ],
     "prompt_number": 18
    },
    {
     "cell_type": "code",
     "collapsed": false,
     "input": [
      "# Test lambda for an odd dataset\n",
      "loc_test = \"data_organism_reactions/Stoichiometric Matrices/196164.1.txt\"\n",
      "df_test = pd.read_csv(loc_test)\n",
      "df_test = df_test.rename(columns = {'Unnamed: 0': 'compound'})\n",
      "S_test =  df_test.iloc[:,2:df_test.shape[1]]\n",
      "S_test.index = df_test[\"compound\"].values\n",
      "CCA(S_rhizo, S_test)"
     ],
     "language": "python",
     "metadata": {},
     "outputs": []
    },
    {
     "cell_type": "code",
     "collapsed": false,
     "input": [],
     "language": "python",
     "metadata": {},
     "outputs": []
    }
   ],
   "metadata": {}
  }
 ]
}