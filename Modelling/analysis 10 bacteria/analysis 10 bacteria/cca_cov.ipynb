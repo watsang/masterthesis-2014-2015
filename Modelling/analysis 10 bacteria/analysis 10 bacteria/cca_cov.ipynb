{
 "metadata": {
  "name": "cca_cov.ipynb"
 },
 "nbformat": 3,
 "nbformat_minor": 0,
 "worksheets": [
  {
   "cells": [
    {
     "cell_type": "heading",
     "level": 1,
     "metadata": {},
     "source": [
      "Canonical Correlation Analysis"
     ]
    },
    {
     "cell_type": "heading",
     "level": 3,
     "metadata": {},
     "source": [
      "Objective:\n",
      "    Perform CCA for 5 bacteria of synthetic community"
     ]
    },
    {
     "cell_type": "code",
     "collapsed": false,
     "input": [
      "import pandas as pd\n",
      "import numpy as np\n",
      "import matplotlib as plt\n",
      "import copy \n"
     ],
     "language": "python",
     "metadata": {},
     "outputs": [],
     "prompt_number": 1
    },
    {
     "cell_type": "code",
     "collapsed": false,
     "input": [
      "# Set working directory!!\n",
      "%cd \"D:/univ/2014-2015/thesis/KERMIT/bacterial similarity/data mining/\""
     ],
     "language": "python",
     "metadata": {},
     "outputs": [
      {
       "output_type": "stream",
       "stream": "stdout",
       "text": [
        "D:\\univ\\2014-2015\\thesis\\KERMIT\\bacterial similarity\\data mining\n"
       ]
      }
     ],
     "prompt_number": 2
    },
    {
     "cell_type": "code",
     "collapsed": false,
     "input": [
      "# Define data locations\n",
      "loc_rhizobium =\"data_organism_reactions/Stoichiometric Matrices/394.7.txt\"\n",
      "loc_agro =\"data_organism_reactions/Stoichiometric Matrices/176299.3.txt\"\n",
      "loc_burkho =\"data_organism_reactions/Stoichiometric Matrices/269483.3.txt\"\n",
      "loc_para =\"data_organism_reactions/Stoichiometric Matrices/318586.5.txt\"\n",
      "loc_bacillus =\"data_organism_reactions/Stoichiometric Matrices/388400.4.txt\""
     ],
     "language": "python",
     "metadata": {},
     "outputs": [],
     "prompt_number": 3
    },
    {
     "cell_type": "code",
     "collapsed": false,
     "input": [
      "# Load Data\n",
      "df_rhizo = pd.read_csv(loc_rhizobium)\n",
      "df_agro = pd.read_csv(loc_agro)\n",
      "df_burkho = pd.read_csv(loc_burkho)\n",
      "df_para = pd.read_csv(loc_para)\n",
      "df_bacillus = pd.read_csv(loc_bacillus)\n"
     ],
     "language": "python",
     "metadata": {},
     "outputs": [],
     "prompt_number": 4
    },
    {
     "cell_type": "code",
     "collapsed": false,
     "input": [
      "# Rename first column compound\n",
      "df_rhizo = df_rhizo.rename(columns = {'Unnamed: 0': 'compound'})\n",
      "df_agro = df_agro.rename(columns = {'Unnamed: 0': 'compound'})\n",
      "df_burkho = df_burkho.rename(columns = {'Unnamed: 0': 'compound'})\n",
      "df_para = df_para.rename(columns = {'Unnamed: 0': 'compound'})\n",
      "df_bacillus = df_bacillus.rename(columns = {'Unnamed: 0': 'compound'})\n"
     ],
     "language": "python",
     "metadata": {},
     "outputs": [],
     "prompt_number": 5
    },
    {
     "cell_type": "code",
     "collapsed": false,
     "input": [
      "# Load database for compounds and reactions\n",
      "loc_compound_db = \"data_preprocessing/ModelSEED-compounds-db.csv\"\n",
      "loc_reaction_db = \"data_preprocessing/ModelSEED-reactions-db.csv\"\n",
      "df_compound = pd.read_csv(loc_compound_db)\n",
      "df_reaction= pd.read_csv(loc_reaction_db)"
     ],
     "language": "python",
     "metadata": {},
     "outputs": [],
     "prompt_number": 6
    },
    {
     "cell_type": "code",
     "collapsed": false,
     "input": [
      "# Define function to look up compound code in DATABASE and return a list with abbreviated compound names\n",
      "def switch_compounds(list_compounds):\n",
      "    \"\"\"\n",
      "    Look up compounds in database and return a list of comprehensible compound names\n",
      "    \"\"\"\n",
      "    return [df_compound.loc[df_compound.DATABASE == compound].ABBREVIATION.values[0] for compound in list_compounds]\n",
      "    "
     ],
     "language": "python",
     "metadata": {},
     "outputs": [],
     "prompt_number": 7
    },
    {
     "cell_type": "code",
     "collapsed": false,
     "input": [
      "# This compound database has duplicates so this will cause an error later on\n",
      "# Switch compound names with abbreviated ones in DATABASE\n",
      "# df_rhizo[\"compound\"] = switch_compounds(df_rhizo[\"compound\"])\n",
      "# df_agro[\"compound\"] = switch_compounds(df_agro[\"compound\"])\n",
      "# df_para[\"compound\"] = switch_compounds(df_para[\"compound\"])\n",
      "# df_burkho[\"compound\"] = switch_compounds(df_burkho[\"compound\"])\n",
      "# df_bacillus[\"compound\"] = switch_compounds(df_bacillus[\"compound\"])"
     ],
     "language": "python",
     "metadata": {},
     "outputs": [],
     "prompt_number": 8
    },
    {
     "cell_type": "code",
     "collapsed": false,
     "input": [
      "# Define stoichiometric matrices\n",
      "S_rhizo = df_rhizo.iloc[:,2:df_rhizo.shape[1]]\n",
      "S_para = df_para.iloc[:,2:df_para.shape[1]]\n",
      "S_agro = df_agro.iloc[:,2:df_agro.shape[1]]\n",
      "S_bacillus = df_bacillus.iloc[:,2:df_bacillus.shape[1]]\n",
      "S_burkho = df_burkho.iloc[:,2:df_burkho.shape[1]]"
     ],
     "language": "python",
     "metadata": {},
     "outputs": [],
     "prompt_number": 9
    },
    {
     "cell_type": "code",
     "collapsed": false,
     "input": [
      "scope = globals().keys()\n",
      "S = [SM for SM in scope if \"S_\" in SM]\n",
      "S = [SM for SM in S if isinstance(eval(SM), pd.DataFrame)]\n",
      "S"
     ],
     "language": "python",
     "metadata": {},
     "outputs": [
      {
       "metadata": {},
       "output_type": "pyout",
       "prompt_number": 10,
       "text": [
        "['S_agro', 'S_bacillus', 'S_burkho', 'S_para', 'S_rhizo']"
       ]
      }
     ],
     "prompt_number": 10
    },
    {
     "cell_type": "code",
     "collapsed": false,
     "input": [
      "# Rename indices for convenience' sake\n",
      "S_rhizo.index = df_rhizo[\"compound\"].values\n",
      "S_agro.index = df_agro[\"compound\"].values\n",
      "S_para.index = df_para[\"compound\"].values\n",
      "S_bacillus.index = df_bacillus[\"compound\"].values\n",
      "S_burkho.index = df_burkho[\"compound\"].values"
     ],
     "language": "python",
     "metadata": {},
     "outputs": [],
     "prompt_number": 11
    },
    {
     "cell_type": "code",
     "collapsed": false,
     "input": [
      "def create_frames(S1, S2):\n",
      "    \"\"\"\n",
      "    @param S1: accepts stoichiometric matrix 1\n",
      "    @param S2: accepts stoichiometric matrix 2\n",
      "    @return: returns two stoichiometric matrices where the rows:\n",
      "            * consist of the same compounds\n",
      "            * are sorted according to the index\n",
      "    \"\"\"\n",
      "    # Determine which compounds to add\n",
      "    cp_add_1 = S2.index[~S2.index.isin(S1.index)] # Find compounds not present in S1\n",
      "    cp_add_2 = S1.index[~S1.index.isin(S2.index)] # Find compounds not present in S2\n",
      "    \n",
      "    # Create matrix you want to append\n",
      "    append1 = np.zeros([len(cp_add_1), S1.shape[1]]) # Create matrix to append matrix1\n",
      "    append2 = np.zeros([len(cp_add_2), S2.shape[1]]) # Create matrix to append matrix2\n",
      "    \n",
      "    # Create frames to return\n",
      "    frame1 = S1.append(pd.DataFrame(append1, columns = S1.columns, index = cp_add_1))\n",
      "    frame2 = S2.append(pd.DataFrame(append2, columns = S2.columns, index = cp_add_2))\n",
      "\n",
      "    # Sort rowwise\n",
      "    frame1 = frame1.sort_index()\n",
      "    frame2 = frame2.sort_index()\n",
      "    \n",
      "    return frame1, frame2\n",
      "\n",
      "def CCA(S1, S2):\n",
      "    \"\"\"\n",
      "    @param S1: accepts stoichiometric matrix 1\n",
      "    @param S2: accepts stoichiometric matrix 2\n",
      "    @return: returns the lambda value of the canonical correlation analysis (CCA)\n",
      "    \n",
      "    CCA\n",
      "    ---\n",
      "    formula:\n",
      "    [ (S1^T * S1 + I * lambda)^-1 * (S1^T * S2) * (S2^T * S2 + I * lambda)^-1 ] * (S2^T * S1) a = lambda^2 * a \n",
      "    \n",
      "    implementation:\n",
      "    term1 = (S1^T * S1 + I * lambda)^-1 \n",
      "    term2 = (S1^T * S2)\n",
      "    term3 = (S2^T * S2 + I * lambda)^-1 \n",
      "    term4 = (S2^T * S1)\n",
      "    lambda is a measure of correlation between two stoichiometric matrices\n",
      "    \n",
      "    \"\"\"\n",
      "    # Create matrices with the same compounds\n",
      "    S1, S2 = create_frames(S1, S2)\n",
      "      \n",
      "    r1 = S1.shape[1]\n",
      "    r2 = S2.shape[1]\n",
      "    \n",
      "    cov = np.cov(S1, S2, rowvar = 0)\n",
      "    allr = r1 + r2\n",
      "    \n",
      "    Sxx = cov[0:r1, 0:r1]\n",
      "    Syy = cov[r1:allr, r1:allr]\n",
      "    Sxy = cov[0:r1, r1:allr]\n",
      "    Syx = cov[r1:allr, 0:r1]\n",
      "    \n",
      "    # Calculate CCA-measure\n",
      "    Sxx = np.linalg.inv(Sxx + np.eye(r1) * .001)\n",
      "    Syy = np.linalg.inv(Syy + np.eye(r2) * .001)\n",
      "    \n",
      "    # lambda_square = np.dot(term1, term2)\n",
      "    # lambda_square = np.dot(lambda_square, term3)\n",
      "    # lambda_square = np.dot(lambda_square, term4)\n",
      "    lambda_square = reduce(np.dot, [Sxx, Sxy, Syy, Syx])\n",
      "    #lambda_square = np.around(lambda_square, decimals = 3)\n",
      "    # return np.sqrt(max(real(np.linalg.eig(lambda_square)[0])))\n",
      "    return np.trace(lambda_square)\n",
      "\n",
      "\n",
      "def CCA_matrix(list_of_S):\n",
      "    \"\"\"\n",
      "    @param list_of_S: accepts a list of Stoichiometric Matrices\n",
      "    @return: returns a pd.DataFrame with all lambda values corresponding lambda values\n",
      "    \"\"\"\n",
      "    n = len(list_of_S)\n",
      "    df_CF = np.zeros([n, n])\n",
      "    for i in xrange(n):\n",
      "        for j in xrange(i + 1):\n",
      "            S1 = eval(list_of_S[i])\n",
      "            S2 = eval(list_of_S[j])\n",
      "            df_CF[i,j] = CCA(S1, S2)\n",
      "    for i in xrange(n):\n",
      "        for j in xrange(n - 1 - i):\n",
      "            df_CF[i, j + 1 + i] = df_CF[j + 1 + i, i]  \n",
      "       \n",
      "    return pd.DataFrame(df_CF, columns= list_of_S, index = list_of_S)\n"
     ],
     "language": "python",
     "metadata": {},
     "outputs": [],
     "prompt_number": 82
    },
    {
     "cell_type": "code",
     "collapsed": false,
     "input": [],
     "language": "python",
     "metadata": {},
     "outputs": [
      {
       "output_type": "stream",
       "stream": "stdout",
       "text": [
        "\n"
       ]
      }
     ],
     "prompt_number": 81
    },
    {
     "cell_type": "code",
     "collapsed": false,
     "input": [
      "lambda_square"
     ],
     "language": "python",
     "metadata": {},
     "outputs": [
      {
       "metadata": {},
       "output_type": "pyout",
       "prompt_number": 80,
       "text": [
        "378.91243498997591"
       ]
      }
     ],
     "prompt_number": 80
    },
    {
     "cell_type": "code",
     "collapsed": false,
     "input": [
      "a, b = create_frames(eval(S[0]), eval(S[1]))\n",
      "a.shape, b.shape"
     ],
     "language": "python",
     "metadata": {},
     "outputs": [
      {
       "metadata": {},
       "output_type": "pyout",
       "prompt_number": 89,
       "text": [
        "((1424, 1610), (1424, 1581))"
       ]
      }
     ],
     "prompt_number": 89
    },
    {
     "cell_type": "code",
     "collapsed": false,
     "input": [
      "r1 = a.shape[1]\n",
      "r2 = b.shape[1]"
     ],
     "language": "python",
     "metadata": {},
     "outputs": [],
     "prompt_number": 65
    },
    {
     "cell_type": "code",
     "collapsed": false,
     "input": [
      "%timeit cov = np.cov(a, b, rowvar=0)\n"
     ],
     "language": "python",
     "metadata": {},
     "outputs": [
      {
       "output_type": "stream",
       "stream": "stdout",
       "text": [
        "1 loops, best of 3: 546 ms per loop\n"
       ]
      }
     ],
     "prompt_number": 68
    },
    {
     "cell_type": "code",
     "collapsed": false,
     "input": [
      "cov_a = np.cov(a, rowvar = 0)\n",
      "cov_b = np.cov(b, rowvar = 0)\n",
      "n = cov.shape[0]"
     ],
     "language": "python",
     "metadata": {},
     "outputs": [],
     "prompt_number": 90
    },
    {
     "cell_type": "code",
     "collapsed": false,
     "input": [
      "cov_a.shape"
     ],
     "language": "python",
     "metadata": {},
     "outputs": [
      {
       "metadata": {},
       "output_type": "pyout",
       "prompt_number": 91,
       "text": [
        "(1610L, 1610L)"
       ]
      }
     ],
     "prompt_number": 91
    },
    {
     "cell_type": "code",
     "collapsed": false,
     "input": [
      "np.amax((cov[1610:n, 1610:n] - cov_b))"
     ],
     "language": "python",
     "metadata": {},
     "outputs": [
      {
       "metadata": {},
       "output_type": "pyout",
       "prompt_number": 64,
       "text": [
        "1.1622647289044608e-16"
       ]
      }
     ],
     "prompt_number": 64
    },
    {
     "cell_type": "code",
     "collapsed": false,
     "input": [
      "cov_a.shape"
     ],
     "language": "python",
     "metadata": {},
     "outputs": [
      {
       "metadata": {},
       "output_type": "pyout",
       "prompt_number": 53,
       "text": [
        "(1610L, 1610L)"
       ]
      }
     ],
     "prompt_number": 53
    },
    {
     "cell_type": "code",
     "collapsed": false,
     "input": [
      "booleans =  cov[0:r1, 0:r1] == np.cov(a, rowvar = 0)"
     ],
     "language": "python",
     "metadata": {},
     "outputs": [],
     "prompt_number": 66
    },
    {
     "cell_type": "code",
     "collapsed": false,
     "input": [
      "booleans\n"
     ],
     "language": "python",
     "metadata": {},
     "outputs": [
      {
       "metadata": {},
       "output_type": "pyout",
       "prompt_number": 67,
       "text": [
        "array([[ True,  True,  True, ...,  True,  True,  True],\n",
        "       [ True,  True,  True, ...,  True,  True,  True],\n",
        "       [ True,  True,  True, ...,  True,  True,  True],\n",
        "       ..., \n",
        "       [ True,  True,  True, ...,  True,  True,  True],\n",
        "       [ True,  True,  True, ...,  True,  True,  True],\n",
        "       [ True,  True,  True, ...,  True,  True,  True]], dtype=bool)"
       ]
      }
     ],
     "prompt_number": 67
    },
    {
     "cell_type": "code",
     "collapsed": false,
     "input": [
      "%timeit a = CCA_matrix(S)"
     ],
     "language": "python",
     "metadata": {},
     "outputs": [
      {
       "output_type": "stream",
       "stream": "stdout",
       "text": [
        "1 loops, best of 3: 36.5 s per loop\n"
       ]
      }
     ],
     "prompt_number": 84
    },
    {
     "cell_type": "code",
     "collapsed": false,
     "input": [
      "a"
     ],
     "language": "python",
     "metadata": {},
     "outputs": [
      {
       "html": [
        "<div style=\"max-height:1000px;max-width:1500px;overflow:auto;\">\n",
        "<table border=\"1\" class=\"dataframe\">\n",
        "  <thead>\n",
        "    <tr style=\"text-align: right;\">\n",
        "      <th></th>\n",
        "      <th>S_agro</th>\n",
        "      <th>S_bacillus</th>\n",
        "      <th>S_burkho</th>\n",
        "      <th>S_para</th>\n",
        "      <th>S_rhizo</th>\n",
        "    </tr>\n",
        "  </thead>\n",
        "  <tbody>\n",
        "    <tr>\n",
        "      <th>S_agro</th>\n",
        "      <td>477.967037</td>\n",
        "      <td>378.912435</td>\n",
        "      <td>404.697822</td>\n",
        "      <td>406.611135</td>\n",
        "      <td>418.073091</td>\n",
        "    </tr>\n",
        "    <tr>\n",
        "      <th>S_bacillus</th>\n",
        "      <td>378.912435</td>\n",
        "      <td>471.565506</td>\n",
        "      <td>366.489874</td>\n",
        "      <td>368.275658</td>\n",
        "      <td>369.474347</td>\n",
        "    </tr>\n",
        "    <tr>\n",
        "      <th>S_burkho</th>\n",
        "      <td>404.697822</td>\n",
        "      <td>366.489874</td>\n",
        "      <td>472.878193</td>\n",
        "      <td>403.858010</td>\n",
        "      <td>393.529330</td>\n",
        "    </tr>\n",
        "    <tr>\n",
        "      <th>S_para</th>\n",
        "      <td>406.611135</td>\n",
        "      <td>368.275658</td>\n",
        "      <td>403.858010</td>\n",
        "      <td>465.311810</td>\n",
        "      <td>411.096684</td>\n",
        "    </tr>\n",
        "    <tr>\n",
        "      <th>S_rhizo</th>\n",
        "      <td>418.073091</td>\n",
        "      <td>369.474347</td>\n",
        "      <td>393.529330</td>\n",
        "      <td>411.096684</td>\n",
        "      <td>479.532663</td>\n",
        "    </tr>\n",
        "  </tbody>\n",
        "</table>\n",
        "</div>"
       ],
       "metadata": {},
       "output_type": "pyout",
       "prompt_number": 85,
       "text": [
        "                S_agro  S_bacillus    S_burkho      S_para     S_rhizo\n",
        "S_agro      477.967037  378.912435  404.697822  406.611135  418.073091\n",
        "S_bacillus  378.912435  471.565506  366.489874  368.275658  369.474347\n",
        "S_burkho    404.697822  366.489874  472.878193  403.858010  393.529330\n",
        "S_para      406.611135  368.275658  403.858010  465.311810  411.096684\n",
        "S_rhizo     418.073091  369.474347  393.529330  411.096684  479.532663"
       ]
      }
     ],
     "prompt_number": 85
    },
    {
     "cell_type": "code",
     "collapsed": false,
     "input": [
      "plt.pyplot.pcolor(a.values)\n",
      "plt.pyplot.yticks(np.arange(0.5, len(S), 1), a.index)\n",
      "plt.pyplot.xticks(np.arange(0.5, len(S), 1), a.index)\n",
      "colorbar()"
     ],
     "language": "python",
     "metadata": {},
     "outputs": [
      {
       "metadata": {},
       "output_type": "pyout",
       "prompt_number": 86,
       "text": [
        "<matplotlib.colorbar.Colorbar instance at 0x000000000E471F08>"
       ]
      },
      {
       "metadata": {},
       "output_type": "display_data",
       "png": "[encoded data removed]",
       "text": [
        "<matplotlib.figure.Figure at 0x11941080>"
       ]
      }
     ],
     "prompt_number": 86
    },
    {
     "cell_type": "code",
     "collapsed": false,
     "input": [
      "a.index.values"
     ],
     "language": "python",
     "metadata": {},
     "outputs": [
      {
       "metadata": {},
       "output_type": "pyout",
       "prompt_number": 18,
       "text": [
        "array(['S_agro', 'S_burkho', 'S_para', 'S_rhizo', 'S_bacillus'], dtype=object)"
       ]
      }
     ],
     "prompt_number": 18
    },
    {
     "cell_type": "code",
     "collapsed": false,
     "input": [
      "# Test lambda for an odd dataset\n",
      "loc_test = \"data_organism_reactions/Stoichiometric Matrices/196164.1.txt\"\n",
      "df_test = pd.read_csv(loc_test)\n",
      "df_test = df_test.rename(columns = {'Unnamed: 0': 'compound'})\n",
      "S_test =  df_test.iloc[:,2:df_test.shape[1]]\n",
      "S_test.index = df_test[\"compound\"].values\n",
      "CCA(S_rhizo, S_test)"
     ],
     "language": "python",
     "metadata": {},
     "outputs": []
    },
    {
     "cell_type": "code",
     "collapsed": false,
     "input": [],
     "language": "python",
     "metadata": {},
     "outputs": []
    }
   ],
   "metadata": {}
  }
 ]
}