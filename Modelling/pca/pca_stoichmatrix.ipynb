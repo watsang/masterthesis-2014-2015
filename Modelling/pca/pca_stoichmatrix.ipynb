{
 "metadata": {
  "name": "pca_stoichmatrix.ipynb"
 },
 "nbformat": 3,
 "nbformat_minor": 0,
 "worksheets": [
  {
   "cells": [
    {
     "cell_type": "heading",
     "level": 1,
     "metadata": {},
     "source": [
      "PCA"
     ]
    },
    {
     "cell_type": "heading",
     "level": 2,
     "metadata": {},
     "source": [
      "Load data"
     ]
    },
    {
     "cell_type": "code",
     "collapsed": false,
     "input": [
      "import pandas as pd\n",
      "from flux_similarity import Reaction, Stoichiometric_model, stoichm_to_adjacencym # Convert stoichiometric matrix to adjacencymatrix\n",
      "import numpy as np\n",
      "from sklearn.decomposition import PCA\n",
      "import networkx as nx\n",
      "import matplotlib.pyplot as plt"
     ],
     "language": "python",
     "metadata": {},
     "outputs": [],
     "prompt_number": 20
    },
    {
     "cell_type": "code",
     "collapsed": false,
     "input": [
      "loc_files = \"C:/Users/Tsang/Documents/univ/2014-2015/thesis/KERMIT/bacterial similarity/data mining/data_organism_reactions/Raw Reaction Matrices/\"\n",
      "loc_compound_db = \"C:/Users/Tsang/Documents/univ/2014-2015/thesis/KERMIT/bacterial similarity/data mining/pca/ModelSEED-compounds-db.csv\""
     ],
     "language": "python",
     "metadata": {},
     "outputs": [],
     "prompt_number": 18
    },
    {
     "cell_type": "code",
     "collapsed": false,
     "input": [
      "df_compound = pd.read_csv(loc_compound_db)"
     ],
     "language": "python",
     "metadata": {},
     "outputs": [],
     "prompt_number": 19
    },
    {
     "cell_type": "code",
     "collapsed": false,
     "input": [
      "def switch_cp_to_fullname(stoichiometric_matrix):\n",
      "    \"\"\"\n",
      "    @param: stoichiometrix_matrix: accepts stochiometric matrix\n",
      "    @return: stochiometrix matrix with full names\n",
      "    \"\"\"\n",
      "    final_matrix = stoichiometric_matrix\n",
      "    \n",
      "    try:\n",
      "        final_matrix = stoichiometric_matrix.to_dense()\n",
      "    except:\n",
      "        pass\n",
      "    \n",
      "    indices = []\n",
      "    for index in stoichiometric_matrix.index:\n",
      "        indices.append(df_compound[df_compound.DATABASE == index]['ABBREVIATION'].values[0])\n",
      "    final_matrix.index = indices\n",
      "    \n",
      "    return final_matrix"
     ],
     "language": "python",
     "metadata": {},
     "outputs": [],
     "prompt_number": 12
    },
    {
     "cell_type": "markdown",
     "metadata": {},
     "source": [
      "Which organisms are available? => Check Organism_names.csv"
     ]
    },
    {
     "cell_type": "markdown",
     "metadata": {},
     "source": [
      "Load for example the first one"
     ]
    },
    {
     "cell_type": "code",
     "collapsed": false,
     "input": [
      "load = loc_files + \"282458.4\" + \".txt\"\n",
      "df = pd.read_csv(load, sep = \"\\t\")\n",
      "df.head()"
     ],
     "language": "python",
     "metadata": {},
     "outputs": [
      {
       "html": [
        "<div style=\"max-height:1000px;max-width:1500px;overflow:auto;\">\n",
        "<table border=\"1\" class=\"dataframe\">\n",
        "  <thead>\n",
        "    <tr style=\"text-align: right;\">\n",
        "      <th></th>\n",
        "      <th>DATABASE</th>\n",
        "      <th>DELTAG (kcal/mol)</th>\n",
        "      <th>DELTAG ERROR (kcal/mol)</th>\n",
        "      <th>EQUATION</th>\n",
        "      <th>NAME EQ</th>\n",
        "    </tr>\n",
        "  </thead>\n",
        "  <tbody>\n",
        "    <tr>\n",
        "      <th>0</th>\n",
        "      <td> rxn05746</td>\n",
        "      <td> -3.1130</td>\n",
        "      <td> 0.692797</td>\n",
        "      <td>       cpd00001 + cpd01262 &lt;=&gt; cpd00027 + cpd00179</td>\n",
        "      <td>           H2O + Maltotriose &lt;=&gt; Glucose + Maltose</td>\n",
        "    </tr>\n",
        "    <tr>\n",
        "      <th>1</th>\n",
        "      <td> rxn05737</td>\n",
        "      <td>-71.9142</td>\n",
        "      <td> 2.156350</td>\n",
        "      <td> cpd00007 + cpd00210 + cpd01270 &lt;=&gt; cpd00001 + ...</td>\n",
        "      <td> O2 + Taurine + FMNH2 &lt;=&gt; H2O + FMN + HSO3- + A...</td>\n",
        "    </tr>\n",
        "    <tr>\n",
        "      <th>2</th>\n",
        "      <td> rxn05736</td>\n",
        "      <td> -2.4860</td>\n",
        "      <td> 1.231680</td>\n",
        "      <td> cpd00002 + cpd00010 + cpd00067 + cpd03847 &lt;=&gt; ...</td>\n",
        "      <td> ATP + CoA + H+ + Myristic acid &lt;=&gt; PPi + AMP +...</td>\n",
        "    </tr>\n",
        "    <tr>\n",
        "      <th>3</th>\n",
        "      <td> rxn05735</td>\n",
        "      <td> -9.8030</td>\n",
        "      <td> 1.176120</td>\n",
        "      <td> cpd00001 + cpd00003 + cpd04122 &lt;=&gt; cpd00004 + ...</td>\n",
        "      <td> H2O + NAD + Aminoacetaldehyde &lt;=&gt; NADH + Gly +...</td>\n",
        "    </tr>\n",
        "    <tr>\n",
        "      <th>4</th>\n",
        "      <td> rxn05734</td>\n",
        "      <td> -7.0630</td>\n",
        "      <td> 1.291030</td>\n",
        "      <td> cpd00001 + cpd00003 + cpd00040 &lt;=&gt; cpd00004 + ...</td>\n",
        "      <td>  H2O + NAD + Glyoxylate &lt;=&gt; NADH + 2 H+ + Oxalate</td>\n",
        "    </tr>\n",
        "  </tbody>\n",
        "</table>\n",
        "</div>"
       ],
       "metadata": {},
       "output_type": "pyout",
       "prompt_number": 7,
       "text": [
        "   DATABASE  DELTAG (kcal/mol)  DELTAG ERROR (kcal/mol)  \\\n",
        "0  rxn05746            -3.1130                 0.692797   \n",
        "1  rxn05737           -71.9142                 2.156350   \n",
        "2  rxn05736            -2.4860                 1.231680   \n",
        "3  rxn05735            -9.8030                 1.176120   \n",
        "4  rxn05734            -7.0630                 1.291030   \n",
        "\n",
        "                                            EQUATION  \\\n",
        "0        cpd00001 + cpd01262 <=> cpd00027 + cpd00179   \n",
        "1  cpd00007 + cpd00210 + cpd01270 <=> cpd00001 + ...   \n",
        "2  cpd00002 + cpd00010 + cpd00067 + cpd03847 <=> ...   \n",
        "3  cpd00001 + cpd00003 + cpd04122 <=> cpd00004 + ...   \n",
        "4  cpd00001 + cpd00003 + cpd00040 <=> cpd00004 + ...   \n",
        "\n",
        "                                             NAME EQ  \n",
        "0            H2O + Maltotriose <=> Glucose + Maltose  \n",
        "1  O2 + Taurine + FMNH2 <=> H2O + FMN + HSO3- + A...  \n",
        "2  ATP + CoA + H+ + Myristic acid <=> PPi + AMP +...  \n",
        "3  H2O + NAD + Aminoacetaldehyde <=> NADH + Gly +...  \n",
        "4   H2O + NAD + Glyoxylate <=> NADH + 2 H+ + Oxalate  "
       ]
      }
     ],
     "prompt_number": 7
    },
    {
     "cell_type": "code",
     "collapsed": false,
     "input": [
      "SM = Stoichiometric_model(df)\n",
      "SM = SM.get_stoichiometric_matrix()\n",
      "SM.to_excel(loc_files+\"282458.4\"+\".xlsx\")"
     ],
     "language": "python",
     "metadata": {},
     "outputs": [],
     "prompt_number": 43
    },
    {
     "cell_type": "code",
     "collapsed": false,
     "input": [
      "SM \n",
      "pca = PCA(n_components=10)\n",
      "pca.fit(SM)\n",
      "print pca.explained_variance_ratio_\n",
      "\n",
      "estimate_PC = pca.transform(SM)\n",
      "X_pc = pca.fit(SM).transform(SM)\n",
      "\n",
      "\n",
      "plt.figure()\n",
      "plt.scatter(X_pc[:,0], X_pc[:,1], label = SM.index.values)"
     ],
     "language": "python",
     "metadata": {},
     "outputs": [
      {
       "output_type": "stream",
       "stream": "stdout",
       "text": [
        "[ 0.36888121  0.2693678   0.10906614  0.07533223  0.05173951  0.0332559\n",
        "  0.01107514  0.00739523  0.00580611  0.00417272]\n"
       ]
      },
      {
       "metadata": {},
       "output_type": "pyout",
       "prompt_number": 37,
       "text": [
        "<matplotlib.collections.PathCollection at 0x153d3e48>"
       ]
      },
      {
       "metadata": {},
       "output_type": "display_data",
       "png": "[encoded data removed]",
       "text": [
        "<matplotlib.figure.Figure at 0x131f9cc0>"
       ]
      }
     ],
     "prompt_number": 37
    },
    {
     "cell_type": "code",
     "collapsed": false,
     "input": [
      "estimate_PC[0]"
     ],
     "language": "python",
     "metadata": {},
     "outputs": [
      {
       "metadata": {},
       "output_type": "pyout",
       "prompt_number": 39,
       "text": [
        "array([  5.87042640e-04,   1.64348957e-02,   3.95698264e-02,\n",
        "         5.86038938e-03,  -1.47444799e-05,   2.23266664e-02,\n",
        "         3.84015556e-02,  -2.95125428e-02,   4.99922263e-02,\n",
        "        -1.89787830e-02])"
       ]
      }
     ],
     "prompt_number": 39
    },
    {
     "cell_type": "code",
     "collapsed": false,
     "input": [
      "SM.index.values"
     ],
     "language": "python",
     "metadata": {},
     "outputs": [
      {
       "metadata": {},
       "output_type": "pyout",
       "prompt_number": 31,
       "text": [
        "'cpd00507'"
       ]
      }
     ],
     "prompt_number": 31
    },
    {
     "cell_type": "code",
     "collapsed": false,
     "input": [
      "SST = np.dot(b.values, b.values.T)\n",
      "import matplotlib.pyplot as plt\n",
      "%matplotlib inline\n",
      "plt.imshow(SST)\n",
      "print SST.max()"
     ],
     "language": "python",
     "metadata": {},
     "outputs": []
    }
   ],
   "metadata": {}
  }
 ]
}