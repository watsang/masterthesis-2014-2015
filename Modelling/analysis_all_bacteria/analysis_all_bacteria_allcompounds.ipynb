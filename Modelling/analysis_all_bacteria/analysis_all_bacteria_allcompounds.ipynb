{
 "metadata": {
  "name": "analysis_all_bacteria_allcompounds.ipynb"
 },
 "nbformat": 3,
 "nbformat_minor": 0,
 "worksheets": [
  {
   "cells": [
    {
     "cell_type": "heading",
     "level": 1,
     "metadata": {},
     "source": [
      "Comparing similarity for all bacteria\n"
     ]
    },
    {
     "cell_type": "raw",
     "metadata": {},
     "source": [
      "Objective\n",
      "----------\n",
      "0) Reuse defined functions\n",
      "1) Setting up Jaccard and CCA for all 3000 bacteria based on reactions and compounds \n",
      "2) Setting up Jaccard and CCA for locations of all 3000 based on locations"
     ]
    },
    {
     "cell_type": "code",
     "collapsed": false,
     "input": [
      "%load_ext cythonmagic\n",
      "import scipy.linalg as la\n",
      "\n"
     ],
     "language": "python",
     "metadata": {},
     "outputs": [
      {
       "output_type": "stream",
       "stream": "stdout",
       "text": [
        "The cythonmagic extension is already loaded. To reload it, use:\n",
        "  %reload_ext cythonmagic\n"
       ]
      }
     ],
     "prompt_number": 31
    },
    {
     "cell_type": "code",
     "collapsed": false,
     "input": [
      "%%cython\n",
      "cimport numpy as np\n",
      "import numpy as np\n",
      "import pandas as pd"
     ],
     "language": "python",
     "metadata": {},
     "outputs": [],
     "prompt_number": 32
    },
    {
     "cell_type": "code",
     "collapsed": false,
     "input": [
      "# Set working directory\n",
      "%cd \"D:\\univ\\2014-2015\\thesis\\KERMIT\\bacterial similarity\\data mining\""
     ],
     "language": "python",
     "metadata": {},
     "outputs": [
      {
       "output_type": "stream",
       "stream": "stdout",
       "text": [
        "D:\\univ\\2014-2015\\thesis\\KERMIT\\bacterial similarity\\data mining\n"
       ]
      }
     ],
     "prompt_number": 125
    },
    {
     "cell_type": "heading",
     "level": 2,
     "metadata": {},
     "source": [
      "0) Find all stoichiometric matrices available"
     ]
    },
    {
     "cell_type": "markdown",
     "metadata": {},
     "source": [
      "Find all Stoichiometric matrices and write them to a new data_file\n",
      "If there's already a names_bacteria.csv available in your analysis of all bacteria folder, do not run these lines again!\n"
     ]
    },
    {
     "cell_type": "code",
     "collapsed": false,
     "input": [
      "organism_folder = 'data_organism_reactions/'\n"
     ],
     "language": "python",
     "metadata": {},
     "outputs": [],
     "prompt_number": 139
    },
    {
     "cell_type": "code",
     "collapsed": false,
     "input": [
      "loc_organism = organism_folder + 'restricted_organism_matrix.csv'\n",
      "names_bacteria = pd.read_csv(loc_organism, index_col= 0)\n",
      "# names_bacteria['loc'] = map(lambda x: organism_folder + \"Stoichiometric Matrices/\" + str(x) + \".txt\", names_bacteria.code_name)\n",
      "names_bacteria['loc'] = map(lambda x: str(x) + \".txt\", names_bacteria.code_name)"
     ],
     "language": "python",
     "metadata": {},
     "outputs": [],
     "prompt_number": 129
    },
    {
     "cell_type": "code",
     "collapsed": false,
     "input": [
      "import os\n",
      "%cd data_organism_reactions/Stoichiometric Matrices\n",
      "b_names = os.listdir(\".\")\n"
     ],
     "language": "python",
     "metadata": {},
     "outputs": [
      {
       "output_type": "stream",
       "stream": "stdout",
       "text": [
        "D:\\univ\\2014-2015\\thesis\\KERMIT\\bacterial similarity\\data mining\\data_organism_reactions\\Stoichiometric Matrices\n"
       ]
      }
     ],
     "prompt_number": 131
    },
    {
     "cell_type": "code",
     "collapsed": false,
     "input": [
      "for row in xrange(names_bacteria.shape[0]):\n",
      "    if names_bacteria['loc'][row] not in b_names:\n",
      "        for text in b_names:\n",
      "            if str(names_bacteria['code_name'][row]) in text:\n",
      "                names_bacteria['loc'][row] = text\n",
      "                break"
     ],
     "language": "python",
     "metadata": {},
     "outputs": [],
     "prompt_number": 132
    },
    {
     "cell_type": "code",
     "collapsed": false,
     "input": [
      "%cd \"D:\\univ\\2014-2015\\thesis\\KERMIT\\bacterial similarity\\data mining\"\n",
      "names_bacteria.to_csv('analysis_all_bacteria/names_bacteria.csv')"
     ],
     "language": "python",
     "metadata": {},
     "outputs": [
      {
       "output_type": "stream",
       "stream": "stdout",
       "text": [
        "D:\\univ\\2014-2015\\thesis\\KERMIT\\bacterial similarity\\data mining\n"
       ]
      }
     ],
     "prompt_number": 164
    },
    {
     "cell_type": "heading",
     "level": 2,
     "metadata": {},
     "source": [
      "1A) similarity Jacard for all 3000 bacteria based on reactions"
     ]
    },
    {
     "cell_type": "code",
     "collapsed": false,
     "input": [
      "organism_folder = 'data_organism_reactions/'"
     ],
     "language": "python",
     "metadata": {},
     "outputs": [],
     "prompt_number": 170
    },
    {
     "cell_type": "code",
     "collapsed": false,
     "input": [
      "names_bacteria = pd.read_csv('analysis_all_bacteria/names_bacteria.csv', index_col=0)\n",
      "# names_bacteria['loc'] = map(lambda x: 'data_organism_reactions/' + \"Stoichiometric Matrices/\" + x, names_bacteria['loc'])\n",
      "names_bacteria['loc']"
     ],
     "language": "python",
     "metadata": {},
     "outputs": [
      {
       "metadata": {},
       "output_type": "pyout",
       "prompt_number": 212,
       "text": [
        "0        282458.4.txt\n",
        "1        282458.1.txt\n",
        "2       243277.26.txt\n",
        "3        313589.3.txt\n",
        "4        313589.5.txt\n",
        "5        431946.3.txt\n",
        "6        453362.3.txt\n",
        "7        453362.4.txt\n",
        "8        469590.5.txt\n",
        "9        526997.3.txt\n",
        "10       536231.5.txt\n",
        "11       469598.5.txt\n",
        "12       488223.4.txt\n",
        "13       526987.3.txt\n",
        "14       351016.3.txt\n",
        "15       411471.5.txt\n",
        "16       565636.4.txt\n",
        "17       314266.4.txt\n",
        "18        74546.3.txt\n",
        "19        74546.5.txt\n",
        "20       400667.4.txt\n",
        "21       400667.7.txt\n",
        "22       399795.3.txt\n",
        "23       535206.4.txt\n",
        "24       537973.8.txt\n",
        "25       561276.4.txt\n",
        "26       451755.5.txt\n",
        "27        83334.1.txt\n",
        "28       375286.7.txt\n",
        "29       375286.6.txt\n",
        "            ...      \n",
        "1386     393130.3.txt\n",
        "1387     585035.6.txt\n",
        "1388     526978.3.txt\n",
        "1389     660470.3.txt\n",
        "1390     232721.9.txt\n",
        "1391      59931.4.txt\n",
        "1392      59931.3.txt\n",
        "1393     232721.5.txt\n",
        "1394     585055.8.txt\n",
        "1395     585055.6.txt\n",
        "1396     340185.4.txt\n",
        "1397     340185.3.txt\n",
        "1398     292414.1.txt\n",
        "1399     457405.3.txt\n",
        "1400     266265.5.txt\n",
        "1401     575587.3.txt\n",
        "1402     760570.3.txt\n",
        "1403     575788.4.txt\n",
        "1404     575788.5.txt\n",
        "1405     670897.3.txt\n",
        "1406     552396.3.txt\n",
        "1407     749520.3.txt\n",
        "1408     497963.4.txt\n",
        "1409     749495.4.txt\n",
        "1410     272569.1.txt\n",
        "1411     486619.4.txt\n",
        "1412     153948.3.txt\n",
        "1413     634956.3.txt\n",
        "1414     393480.8.txt\n",
        "1415     565648.4.txt\n",
        "Name: loc, dtype: object"
       ]
      }
     ],
     "prompt_number": 212
    },
    {
     "cell_type": "heading",
     "level": 2,
     "metadata": {},
     "source": [
      "A) Create union of matrices"
     ]
    },
    {
     "cell_type": "code",
     "collapsed": false,
     "input": [
      "%%cython\n",
      "import os\n",
      "import pandas as pd\n",
      "import numpy as np\n",
      "\n",
      "def unionize_matrices(list_of_all_S):\n",
      "    \"\"\"\n",
      "    @param: accepts list of all stoichiometric matrices\n",
      "    @return: writes files to equalized stoichiometric matrices\n",
      "    \n",
      "    Equalize all matrices \n",
      "    \"\"\"\n",
      "    directory = \"data_organism_reactions/\" + \"Equal_Stoichiometric_matrices/\"\n",
      "    list_to_write = map(lambda x: directory + x, list_of_all_S)\n",
      "    matrix_to_write = map(lambda x: directory + x.split(\".txt\")[0] + \".npy\", list_of_all_S)\n",
      "    list_of_all_S = map(lambda x: 'data_organism_reactions/' + \"Stoichiometric Matrices/\" + x, list_of_all_S)\n",
      "    if not os.path.exists(directory):\n",
      "        os.makedirs(directory)\n",
      "    compounds = set()\n",
      "    \n",
      "    for file_name in list_of_all_S:\n",
      "        S = pd.read_csv(file_name, index_col=0)\n",
      "        compounds.update(S.index.values)\n",
      "    \n",
      "    compounds = pd.Series(list(compounds))\n",
      "        \n",
      "    for file_number in xrange(len(list_of_all_S)):\n",
      "        S = pd.read_csv(list_of_all_S[file_number], index_col=0)\n",
      "        cp_add = compounds[~compounds.isin(S.index)]\n",
      "        append = np.zeros([len(cp_add), S.shape[1]]) # Create matrix to append matrix1\n",
      "        S = S.append(pd.DataFrame(append, columns = S.columns, index = cp_add))\n",
      "        S = S.sort_index()\n",
      "        S = S.values\n",
      "        # S.to_csv(list_to_write[file_number] , index_col = 0)\n",
      "        np.save(matrix_to_write[file_number], S)\n",
      "        \n",
      "    return matrix_to_write"
     ],
     "language": "python",
     "metadata": {},
     "outputs": []
    },
    {
     "cell_type": "code",
     "collapsed": false,
     "input": [
      "directory = \"data_organism_reactions/\" + \"Equal_Stoichiometric_matrices/\"\n",
      "equal = unionize_matrices(names_bacteria['loc'].values)\n",
      "names_bacteria['loc_equal'] = map(lambda x: \"data_organism_reactions/Equal_Stoichiometric_matrices/\" + x.split(\".txt\")[0] + \".npy\", names_bacteria['loc'])\n"
     ],
     "language": "python",
     "metadata": {},
     "outputs": [],
     "prompt_number": 237
    },
    {
     "cell_type": "heading",
     "level": 2,
     "metadata": {},
     "source": [
      "B) Create inverse of matrices"
     ]
    },
    {
     "cell_type": "code",
     "collapsed": false,
     "input": [
      "%%cython\n",
      "import os\n",
      "import pandas as pd\n",
      "import numpy as np\n",
      "\n",
      "def calculate_inverse_matrices(list_of_all_S):\n",
      "    \"\"\"\n",
      "    @param: accepts list of all stoichiometric matrices with equal compounds\n",
      "    @return: writes files with equal \n",
      "    \n",
      "    Equalize all matrices \n",
      "    \"\"\"\n",
      "    directory = \"data_organism_reactions/\" + \"Inverse_Stoichiometric_matrices/\"\n",
      "    if not os.path.exists(directory):\n",
      "        os.makedirs(directory)\n",
      "        \n",
      "    list_to_write = map(lambda x: directory + x.split(\".txt\")[0] + \".npy\", list_of_all_S)\n",
      "    # matrix_to_read = map(lambda x: directory + x.split(\".txt\")[0] + \".npy\", list_of_all_S)\n",
      "    list_of_all_S = map(lambda x: 'data_organism_reactions/' + \"Equal_Stoichiometric_matrices/\" + x.split(\".txt\")[0] + \".npy\", list_of_all_S)\n",
      "\n",
      "    \n",
      "    for file_number in xrange(len(list_of_all_S)):\n",
      "        \n",
      "        S = np.load(list_of_all_S[file_number])\n",
      "        \n",
      "        S_inverse = np.dot(S.transpose(), S)\n",
      "        S_inverse = np.linalg.inv(S_inverse + np.eye(S_inverse.shape[0]) * .1)\n",
      "        np.save(list_to_write[file_number], S_inverse)\n",
      "        \n",
      "    return list_to_write\n",
      "\n",
      "        \n"
     ],
     "language": "python",
     "metadata": {},
     "outputs": [],
     "prompt_number": 341
    },
    {
     "cell_type": "code",
     "collapsed": false,
     "input": [
      "# Create inverse matrices\n",
      "write_inverse_matrices = calculate_inverse_matrices(names_bacteria['loc'].values)"
     ],
     "language": "python",
     "metadata": {},
     "outputs": [],
     "prompt_number": 342
    },
    {
     "cell_type": "code",
     "collapsed": false,
     "input": [
      "test = np.load(names_bacteria[\"loc_equal\"][0])\n",
      "test = np.dot(test.transpose(), test)\n",
      "test_inverse = np.linalg.inv(test + np.eye(test.shape[0]) * .0001)\n",
      "test_inverse"
     ],
     "language": "python",
     "metadata": {},
     "outputs": [
      {
       "metadata": {},
       "output_type": "pyout",
       "prompt_number": 327,
       "text": [
        "array([[  8.00473215e+03,   2.55348495e+01,  -5.88830652e+00, ...,\n",
        "          1.70234096e+01,  -1.20948716e-03,   2.56318698e+01],\n",
        "       [  2.55348495e+01,   3.38402016e+03,  -1.27322901e+02, ...,\n",
        "         -9.51541801e+00,  -4.55064998e-04,  -4.85138703e-01],\n",
        "       [ -5.88830666e+00,  -1.27322901e+02,   5.91125672e+03, ...,\n",
        "         -9.23018345e+01,   4.86327891e-04,   1.80628601e+00],\n",
        "       ..., \n",
        "       [  1.70234096e+01,  -9.51541800e+00,  -9.23018345e+01, ...,\n",
        "          1.92752102e+02,  -7.15431605e-05,   7.07226412e-01],\n",
        "       [ -1.20951352e-03,  -4.55032018e-04,   4.86280368e-04, ...,\n",
        "         -7.15434424e-05,   3.33355555e+03,   3.27286751e-05],\n",
        "       [  2.56318698e+01,  -4.85138696e-01,   1.80628603e+00, ...,\n",
        "          7.07226414e-01,   3.27377220e-05,   6.76237076e+02]])"
       ]
      }
     ],
     "prompt_number": 327
    },
    {
     "cell_type": "code",
     "collapsed": false,
     "input": [
      "test = np.eye(test.shape[0])  * .001\n",
      "test"
     ],
     "language": "python",
     "metadata": {},
     "outputs": [
      {
       "metadata": {},
       "output_type": "pyout",
       "prompt_number": 312,
       "text": [
        "array([[ 0.001,  0.   ,  0.   , ...,  0.   ,  0.   ,  0.   ],\n",
        "       [ 0.   ,  0.001,  0.   , ...,  0.   ,  0.   ,  0.   ],\n",
        "       [ 0.   ,  0.   ,  0.001, ...,  0.   ,  0.   ,  0.   ],\n",
        "       ..., \n",
        "       [ 0.   ,  0.   ,  0.   , ...,  0.001,  0.   ,  0.   ],\n",
        "       [ 0.   ,  0.   ,  0.   , ...,  0.   ,  0.001,  0.   ],\n",
        "       [ 0.   ,  0.   ,  0.   , ...,  0.   ,  0.   ,  0.001]])"
       ]
      }
     ],
     "prompt_number": 312
    },
    {
     "cell_type": "code",
     "collapsed": false,
     "input": [
      "test.shape"
     ],
     "language": "python",
     "metadata": {},
     "outputs": [
      {
       "metadata": {},
       "output_type": "pyout",
       "prompt_number": 313,
       "text": [
        "(1585L, 1585L)"
       ]
      }
     ],
     "prompt_number": 313
    },
    {
     "cell_type": "code",
     "collapsed": false,
     "input": [
      "np\n",
      "\n",
      "term1 + np.eye(term1.shape[0]) * .001"
     ],
     "language": "python",
     "metadata": {},
     "outputs": []
    },
    {
     "cell_type": "code",
     "collapsed": false,
     "input": [
      "names_bacteria[\"loc_inverse\"] = write_inverse_matrices"
     ],
     "language": "python",
     "metadata": {},
     "outputs": [],
     "prompt_number": 286
    },
    {
     "cell_type": "code",
     "collapsed": false,
     "input": [
      "names_bacteria.to_csv(\"analysis_all_bacteria/names_bacteria.csv\")"
     ],
     "language": "python",
     "metadata": {},
     "outputs": [],
     "prompt_number": 276
    },
    {
     "cell_type": "heading",
     "level": 2,
     "metadata": {},
     "source": [
      "C) Calculate trace lambda values"
     ]
    },
    {
     "cell_type": "code",
     "collapsed": false,
     "input": [
      "names_bacteria = pd.read_csv(\"analysis_all_bacteria/names_bacteria.csv\", index_col=0)"
     ],
     "language": "python",
     "metadata": {},
     "outputs": [],
     "prompt_number": 278
    },
    {
     "cell_type": "code",
     "collapsed": false,
     "input": [
      "%%cython\n",
      "cimport numpy as np \n",
      "import numpy as np\n",
      "import cython\n",
      "\n",
      "@cython.boundscheck(False)\n",
      "@cython.wraparound(False)\n",
      "cdef double CCA(np.ndarray[double, ndim=2]S1, np.ndarray[double, ndim=2]S2, np.ndarray[double, ndim=2]S1_inverse, np.ndarray[double, ndim=2]S2_inverse):\n",
      "    \"\"\"\n",
      "    @param S1: accepts stoichiometric matrix 1\n",
      "    @param S2: accepts stoichiometric matrix 2\n",
      "    @return: returns the lambda value of the canonical correlation analysis (CCA)\n",
      "    \n",
      "    CCA\n",
      "    ---\n",
      "    formula:\n",
      "    [ (S1^T * S1 + I * lambda)^-1 * (S1^T * S2) * (S2^T * S2 + I * lambda)^-1 ] * (S2^T * S1) a = lambda^2 * a \n",
      "    \n",
      "    implementation:\n",
      "    term1 = (S1^T * S1 + I * lambda)^-1 \n",
      "    term2 = (S1^T * S2)\n",
      "    term3 = (S2^T * S2 + I * lambda)^-1 \n",
      "    term4 = (S2^T * S1)\n",
      "    lambda is a measure of correlation between two stoichiometric matrices\n",
      "    \n",
      "    \"\"\"\n",
      "    cdef np.ndarray[double, ndim=2] S1_transposed\n",
      "    S1_transposed = S1.transpose()\n",
      "    \n",
      "    cdef np.ndarray[double, ndim=2] term2\n",
      "    term2 = np.dot(S1_transposed, S2)\n",
      "    \n",
      "    cdef np.ndarray[double, ndim=2] term4\n",
      "    term4 = term2.transpose()\n",
      "    \n",
      "    cdef np.ndarray[double, ndim=2] lambda_square\n",
      "    lambda_square = np.dot(S1_inverse, term2)\n",
      "    lambda_square = np.dot(lambda_square, S2_inverse)\n",
      "    lambda_square = np.dot(lambda_square, term4)\n",
      "    return np.trace(lambda_square)\n",
      "\n",
      "\n",
      "def call_CCA(S1, S2, S1_inverse, S2_inverse):\n",
      "    return CCA(S1,S2, S1_inverse, S2_inverse)\n",
      "\n",
      "\n"
     ],
     "language": "python",
     "metadata": {},
     "outputs": [],
     "prompt_number": 273
    },
    {
     "cell_type": "code",
     "collapsed": false,
     "input": [
      "#import multiprocessing as mp\n",
      "#from functools import partial\n",
      "#from copy import deepcopy\n",
      "\n",
      "#from joblib import Parallel, delayed\n",
      "\n",
      "\n",
      "def load_and_call_CCA(S1, S2, S1_inverse, S2_inverse):\n",
      "    S2 = np.load(S2)\n",
      "    S2_inverse = np.load(S2_inverse)\n",
      "    return call_CCA(S1, S2, S1_inverse, S2_inverse)\n",
      "    \n",
      "def CCA_matrix(list_of_S, list_of_S_equal, list_of_S_inverse):\n",
      "    \"\"\"\n",
      "    @param list_of_S: accepts a list of locations where the stoichiometric matrices can be loaded\n",
      "    @return: returns a pd.DataFrame with all lambda values corresponding lambda values\n",
      "    \"\"\"\n",
      "    n = len(list_of_S)\n",
      "    df_CF = np.zeros([n, n])\n",
      "    for i in xrange(n):\n",
      "        # Load S1 and S2_inv\n",
      "        S1 = np.load(list_of_S_equal[i])\n",
      "        S1_inverse = np.load(list_of_S_equal[i])\n",
      "        \n",
      "        # Subset of S2 matrices you want to compare S1 with\n",
      "        row_list_of_S2 = [list_of_S_equal[j + i] for j in xrange(n-i)]\n",
      "        row_list_of_S2_inverse = [list_of_S_inverse[j + i] for j in xrange(n-i)]\n",
      "        \n",
      "        # Calculate \n",
      "        row = [load_and_call_CCA(S1, S2, S1_inverse, S2_inverse) for S2, S2_inverse in zip(row_list_of_S2, row_list_of_S2_inverse)]\n",
      "        df_CF[i, i:n] = row\n",
      "    for i in xrange(n):\n",
      "        for j in xrange(i):\n",
      "            df_CF[i, j] = df_CF[j, i]  \n",
      "       \n",
      "    return pd.DataFrame(df_CF, columns= list_of_S, index = list_of_S)\n"
     ],
     "language": "python",
     "metadata": {},
     "outputs": [],
     "prompt_number": 291
    },
    {
     "cell_type": "code",
     "collapsed": false,
     "input": [
      "listS = names_bacteria[\"loc\"].values[0:10]\n",
      "listSequal = names_bacteria[\"loc_equal\"].values[0:10]\n",
      "listSinv = names_bacteria[\"loc_inverse\"].values[0:10]\n"
     ],
     "language": "python",
     "metadata": {},
     "outputs": [],
     "prompt_number": 345
    },
    {
     "cell_type": "code",
     "collapsed": false,
     "input": [
      "CCA_all_organisms = CCA_matrix(listS, listSequal, listSinv)"
     ],
     "language": "python",
     "metadata": {},
     "outputs": [],
     "prompt_number": 346
    },
    {
     "cell_type": "code",
     "collapsed": false,
     "input": [
      "CCA_all_organisms"
     ],
     "language": "python",
     "metadata": {},
     "outputs": [
      {
       "html": [
        "<div style=\"max-height:1000px;max-width:1500px;overflow:auto;\">\n",
        "<table border=\"1\" class=\"dataframe\">\n",
        "  <thead>\n",
        "    <tr style=\"text-align: right;\">\n",
        "      <th></th>\n",
        "      <th>282458.4.txt</th>\n",
        "      <th>282458.1.txt</th>\n",
        "      <th>243277.26.txt</th>\n",
        "      <th>313589.3.txt</th>\n",
        "      <th>313589.5.txt</th>\n",
        "      <th>431946.3.txt</th>\n",
        "      <th>453362.3.txt</th>\n",
        "      <th>453362.4.txt</th>\n",
        "      <th>469590.5.txt</th>\n",
        "      <th>526997.3.txt</th>\n",
        "    </tr>\n",
        "  </thead>\n",
        "  <tbody>\n",
        "    <tr>\n",
        "      <th>282458.4.txt</th>\n",
        "      <td>-2399.998314</td>\n",
        "      <td>-2393.605066</td>\n",
        "      <td>-2372.572680</td>\n",
        "      <td>-2329.752674</td>\n",
        "      <td>-2377.420991</td>\n",
        "      <td>-2374.877611</td>\n",
        "      <td>-2340.004070</td>\n",
        "      <td>-2258.216335</td>\n",
        "      <td>-2391.780508</td>\n",
        "      <td>-2400.070271</td>\n",
        "    </tr>\n",
        "    <tr>\n",
        "      <th>282458.1.txt</th>\n",
        "      <td>-2393.605066</td>\n",
        "      <td>-2813.903058</td>\n",
        "      <td>-2714.908940</td>\n",
        "      <td>-2775.970888</td>\n",
        "      <td>-2777.994561</td>\n",
        "      <td>-2856.245035</td>\n",
        "      <td>-2743.882178</td>\n",
        "      <td>-2798.454997</td>\n",
        "      <td>-2817.646713</td>\n",
        "      <td>-2825.584451</td>\n",
        "    </tr>\n",
        "    <tr>\n",
        "      <th>243277.26.txt</th>\n",
        "      <td>-2372.572680</td>\n",
        "      <td>-2714.908940</td>\n",
        "      <td>3.698027</td>\n",
        "      <td>3.905063</td>\n",
        "      <td>3.927000</td>\n",
        "      <td>2.284783</td>\n",
        "      <td>2.430279</td>\n",
        "      <td>-3.600248</td>\n",
        "      <td>1.474997</td>\n",
        "      <td>3.546717</td>\n",
        "    </tr>\n",
        "    <tr>\n",
        "      <th>313589.3.txt</th>\n",
        "      <td>-2329.752674</td>\n",
        "      <td>-2775.970888</td>\n",
        "      <td>3.905063</td>\n",
        "      <td>1848.998728</td>\n",
        "      <td>1848.905926</td>\n",
        "      <td>1846.889544</td>\n",
        "      <td>1845.494091</td>\n",
        "      <td>1846.838535</td>\n",
        "      <td>1846.658399</td>\n",
        "      <td>1846.397790</td>\n",
        "    </tr>\n",
        "    <tr>\n",
        "      <th>313589.5.txt</th>\n",
        "      <td>-2377.420991</td>\n",
        "      <td>-2777.994561</td>\n",
        "      <td>3.927000</td>\n",
        "      <td>1848.905926</td>\n",
        "      <td>405.101100</td>\n",
        "      <td>403.260167</td>\n",
        "      <td>403.859582</td>\n",
        "      <td>398.047322</td>\n",
        "      <td>403.677297</td>\n",
        "      <td>405.173307</td>\n",
        "    </tr>\n",
        "    <tr>\n",
        "      <th>431946.3.txt</th>\n",
        "      <td>-2374.877611</td>\n",
        "      <td>-2856.245035</td>\n",
        "      <td>2.284783</td>\n",
        "      <td>1846.889544</td>\n",
        "      <td>403.260167</td>\n",
        "      <td>-2497.394770</td>\n",
        "      <td>-2486.760891</td>\n",
        "      <td>-2483.465840</td>\n",
        "      <td>-2568.097904</td>\n",
        "      <td>-2497.143941</td>\n",
        "    </tr>\n",
        "    <tr>\n",
        "      <th>453362.3.txt</th>\n",
        "      <td>-2340.004070</td>\n",
        "      <td>-2743.882178</td>\n",
        "      <td>2.430279</td>\n",
        "      <td>1845.494091</td>\n",
        "      <td>403.859582</td>\n",
        "      <td>-2486.760891</td>\n",
        "      <td>16594.294250</td>\n",
        "      <td>16594.794433</td>\n",
        "      <td>16564.571524</td>\n",
        "      <td>16594.547902</td>\n",
        "    </tr>\n",
        "    <tr>\n",
        "      <th>453362.4.txt</th>\n",
        "      <td>-2258.216335</td>\n",
        "      <td>-2798.454997</td>\n",
        "      <td>-3.600248</td>\n",
        "      <td>1846.838535</td>\n",
        "      <td>398.047322</td>\n",
        "      <td>-2483.465840</td>\n",
        "      <td>16594.794433</td>\n",
        "      <td>12076.587527</td>\n",
        "      <td>12062.033574</td>\n",
        "      <td>12079.360004</td>\n",
        "    </tr>\n",
        "    <tr>\n",
        "      <th>469590.5.txt</th>\n",
        "      <td>-2391.780508</td>\n",
        "      <td>-2817.646713</td>\n",
        "      <td>1.474997</td>\n",
        "      <td>1846.658399</td>\n",
        "      <td>403.677297</td>\n",
        "      <td>-2568.097904</td>\n",
        "      <td>16564.571524</td>\n",
        "      <td>12062.033574</td>\n",
        "      <td>-1225.098567</td>\n",
        "      <td>-1225.309985</td>\n",
        "    </tr>\n",
        "    <tr>\n",
        "      <th>526997.3.txt</th>\n",
        "      <td>-2400.070271</td>\n",
        "      <td>-2825.584451</td>\n",
        "      <td>3.546717</td>\n",
        "      <td>1846.397790</td>\n",
        "      <td>405.173307</td>\n",
        "      <td>-2497.143941</td>\n",
        "      <td>16594.547902</td>\n",
        "      <td>12079.360004</td>\n",
        "      <td>-1225.309985</td>\n",
        "      <td>7278.197256</td>\n",
        "    </tr>\n",
        "  </tbody>\n",
        "</table>\n",
        "</div>"
       ],
       "metadata": {},
       "output_type": "pyout",
       "prompt_number": 347,
       "text": [
        "               282458.4.txt  282458.1.txt  243277.26.txt  313589.3.txt  \\\n",
        "282458.4.txt   -2399.998314  -2393.605066   -2372.572680  -2329.752674   \n",
        "282458.1.txt   -2393.605066  -2813.903058   -2714.908940  -2775.970888   \n",
        "243277.26.txt  -2372.572680  -2714.908940       3.698027      3.905063   \n",
        "313589.3.txt   -2329.752674  -2775.970888       3.905063   1848.998728   \n",
        "313589.5.txt   -2377.420991  -2777.994561       3.927000   1848.905926   \n",
        "431946.3.txt   -2374.877611  -2856.245035       2.284783   1846.889544   \n",
        "453362.3.txt   -2340.004070  -2743.882178       2.430279   1845.494091   \n",
        "453362.4.txt   -2258.216335  -2798.454997      -3.600248   1846.838535   \n",
        "469590.5.txt   -2391.780508  -2817.646713       1.474997   1846.658399   \n",
        "526997.3.txt   -2400.070271  -2825.584451       3.546717   1846.397790   \n",
        "\n",
        "               313589.5.txt  431946.3.txt  453362.3.txt  453362.4.txt  \\\n",
        "282458.4.txt   -2377.420991  -2374.877611  -2340.004070  -2258.216335   \n",
        "282458.1.txt   -2777.994561  -2856.245035  -2743.882178  -2798.454997   \n",
        "243277.26.txt      3.927000      2.284783      2.430279     -3.600248   \n",
        "313589.3.txt    1848.905926   1846.889544   1845.494091   1846.838535   \n",
        "313589.5.txt     405.101100    403.260167    403.859582    398.047322   \n",
        "431946.3.txt     403.260167  -2497.394770  -2486.760891  -2483.465840   \n",
        "453362.3.txt     403.859582  -2486.760891  16594.294250  16594.794433   \n",
        "453362.4.txt     398.047322  -2483.465840  16594.794433  12076.587527   \n",
        "469590.5.txt     403.677297  -2568.097904  16564.571524  12062.033574   \n",
        "526997.3.txt     405.173307  -2497.143941  16594.547902  12079.360004   \n",
        "\n",
        "               469590.5.txt  526997.3.txt  \n",
        "282458.4.txt   -2391.780508  -2400.070271  \n",
        "282458.1.txt   -2817.646713  -2825.584451  \n",
        "243277.26.txt      1.474997      3.546717  \n",
        "313589.3.txt    1846.658399   1846.397790  \n",
        "313589.5.txt     403.677297    405.173307  \n",
        "431946.3.txt   -2568.097904  -2497.143941  \n",
        "453362.3.txt   16564.571524  16594.547902  \n",
        "453362.4.txt   12062.033574  12079.360004  \n",
        "469590.5.txt   -1225.098567  -1225.309985  \n",
        "526997.3.txt   -1225.309985   7278.197256  "
       ]
      }
     ],
     "prompt_number": 347
    },
    {
     "cell_type": "code",
     "collapsed": false,
     "input": [
      "a"
     ],
     "language": "python",
     "metadata": {},
     "outputs": [
      {
       "metadata": {},
       "output_type": "pyout",
       "prompt_number": 295,
       "text": [
        "array([[  8.04314595e+02,   2.56100838e+00,   3.61431249e+00, ...,\n",
        "          2.02102467e+00,  -1.32921853e-03,   2.41334125e+00],\n",
        "       [  2.56100838e+00,   3.40390787e+02,  -1.21450186e+01, ...,\n",
        "         -1.70692930e+00,  -4.03193486e-04,  -1.17881026e-01],\n",
        "       [  3.61431249e+00,  -1.21450186e+01,   6.28334077e+02, ...,\n",
        "         -8.97362294e+00,   1.55104253e-04,   9.90093939e-01],\n",
        "       ..., \n",
        "       [  2.02102467e+00,  -1.70692930e+00,  -8.97362294e+00, ...,\n",
        "          2.40223964e+01,  -1.45520673e-04,   2.03388160e-01],\n",
        "       [ -1.32921837e-03,  -4.03193749e-04,   1.55105232e-04, ...,\n",
        "         -1.45520725e-04,   3.33555465e+02,   6.59895756e-05],\n",
        "       [  2.41334125e+00,  -1.17881026e-01,   9.90093938e-01, ...,\n",
        "          2.03388160e-01,   6.59894968e-05,   7.10970221e+01]])"
       ]
      }
     ],
     "prompt_number": 295
    },
    {
     "cell_type": "code",
     "collapsed": false,
     "input": [
      "CCA_all_organisms"
     ],
     "language": "python",
     "metadata": {},
     "outputs": [
      {
       "html": [
        "<div style=\"max-height:1000px;max-width:1500px;overflow:auto;\">\n",
        "<table border=\"1\" class=\"dataframe\">\n",
        "  <thead>\n",
        "    <tr style=\"text-align: right;\">\n",
        "      <th></th>\n",
        "      <th>282458.4.txt</th>\n",
        "      <th>282458.1.txt</th>\n",
        "    </tr>\n",
        "  </thead>\n",
        "  <tbody>\n",
        "    <tr>\n",
        "      <th>282458.4.txt</th>\n",
        "      <td>-2399.999999</td>\n",
        "      <td>-2399.909644</td>\n",
        "    </tr>\n",
        "    <tr>\n",
        "      <th>282458.1.txt</th>\n",
        "      <td>-2399.909644</td>\n",
        "      <td>-2813.998996</td>\n",
        "    </tr>\n",
        "  </tbody>\n",
        "</table>\n",
        "</div>"
       ],
       "metadata": {},
       "output_type": "pyout",
       "prompt_number": 293,
       "text": [
        "              282458.4.txt  282458.1.txt\n",
        "282458.4.txt  -2399.999999  -2399.909644\n",
        "282458.1.txt  -2399.909644  -2813.998996"
       ]
      }
     ],
     "prompt_number": 293
    },
    {
     "cell_type": "code",
     "collapsed": false,
     "input": [
      "check = map(lambda x: pd.read_csv(x, index_col=0), check)"
     ],
     "language": "python",
     "metadata": {},
     "outputs": [],
     "prompt_number": "*"
    },
    {
     "cell_type": "code",
     "collapsed": false,
     "input": [
      "%timeit all_bacteria_cca = CCA_matrix(check)"
     ],
     "language": "python",
     "metadata": {},
     "outputs": [
      {
       "output_type": "stream",
       "stream": "stdout",
       "text": [
        "1 loops, best of 3: 16.7 s per loop\n"
       ]
      }
     ],
     "prompt_number": 25
    },
    {
     "cell_type": "code",
     "collapsed": false,
     "input": [
      "all_bacteria_cca"
     ],
     "language": "python",
     "metadata": {},
     "outputs": [
      {
       "html": [
        "<div style=\"max-height:1000px;max-width:1500px;overflow:auto;\">\n",
        "<table border=\"1\" class=\"dataframe\">\n",
        "  <thead>\n",
        "    <tr style=\"text-align: right;\">\n",
        "      <th></th>\n",
        "      <th>282458.4.txt</th>\n",
        "      <th>282458.1.txt</th>\n",
        "      <th>243277.26.txt</th>\n",
        "    </tr>\n",
        "  </thead>\n",
        "  <tbody>\n",
        "    <tr>\n",
        "      <th>282458.4.txt</th>\n",
        "      <td>1198.561626</td>\n",
        "      <td>1049.179164</td>\n",
        "      <td>895.634439</td>\n",
        "    </tr>\n",
        "    <tr>\n",
        "      <th>282458.1.txt</th>\n",
        "      <td>1049.179164</td>\n",
        "      <td>1189.566834</td>\n",
        "      <td>890.123292</td>\n",
        "    </tr>\n",
        "    <tr>\n",
        "      <th>243277.26.txt</th>\n",
        "      <td>895.634439</td>\n",
        "      <td>890.123292</td>\n",
        "      <td>1096.292020</td>\n",
        "    </tr>\n",
        "  </tbody>\n",
        "</table>\n",
        "</div>"
       ],
       "metadata": {},
       "output_type": "pyout",
       "prompt_number": 21,
       "text": [
        "               282458.4.txt  282458.1.txt  243277.26.txt\n",
        "282458.4.txt    1198.561626   1049.179164     895.634439\n",
        "282458.1.txt    1049.179164   1189.566834     890.123292\n",
        "243277.26.txt    895.634439    890.123292    1096.292020"
       ]
      }
     ],
     "prompt_number": 21
    },
    {
     "cell_type": "code",
     "collapsed": false,
     "input": [
      "St1 = pd.read_csv(names_bacteria['loc'][0], index_col = 0)\n",
      "St2 = pd.read_csv(names_bacteria['loc'][1], index_col = 0)\n",
      "\n"
     ],
     "language": "python",
     "metadata": {},
     "outputs": [],
     "prompt_number": 24
    },
    {
     "cell_type": "code",
     "collapsed": false,
     "input": [
      "sg1, sg2 = create_frames(St1, St2)"
     ],
     "language": "python",
     "metadata": {},
     "outputs": [],
     "prompt_number": 25
    },
    {
     "cell_type": "code",
     "collapsed": false,
     "input": [
      "type(sg1)"
     ],
     "language": "python",
     "metadata": {},
     "outputs": [
      {
       "metadata": {},
       "output_type": "pyout",
       "prompt_number": 19,
       "text": [
        "numpy.ndarray"
       ]
      }
     ],
     "prompt_number": 19
    },
    {
     "cell_type": "code",
     "collapsed": false,
     "input": [
      "%timeit result = call_CCA(sg1, sg2)"
     ],
     "language": "python",
     "metadata": {},
     "outputs": [
      {
       "output_type": "stream",
       "stream": "stdout",
       "text": [
        "1 loops, best of 3: 1.97 s per loop\n"
       ]
      }
     ],
     "prompt_number": 30
    },
    {
     "cell_type": "heading",
     "level": 2,
     "metadata": {},
     "source": [
      "2) similarity Jaccard based on location"
     ]
    },
    {
     "cell_type": "code",
     "collapsed": false,
     "input": [
      "def jacard_index_location(v1, v2):\n",
      "    \"\"\"\n",
      "    @param S1: vector 1 with all the locations\n",
      "    @param S2: vector 2 with all the locations\n",
      "    @return: Jacard index\n",
      "    \n",
      "    MATH description..? => only counts the number of shared locations\n",
      "             |v1 \u2229 v2|\n",
      "    Jacard = ---------\n",
      "             |v1 U v2|\n",
      "    \"\"\"\n",
      "    location_intersect = v1.isin(v2).sum()\n",
      "    location_different1 = len(v1) - location_intersect\n",
      "    location_different2 = len(v2) - location_intersect\n",
      "    \n",
      "    jacard_index = location_intersect\n",
      "    union = (location_intersect + location_different1 + location_different2 + 0.)\n",
      "    jacard_index /= union\n",
      "    return jacard_index\n",
      "\n",
      "def jacard_matrix_location(location_matrix):\n",
      "    n = location_matrix.shape[0]\n",
      "    df_jm = np.zeros([n, n])\n",
      "    column = location_matrix.columns\n",
      "    for i in xrange(n):\n",
      "        for j in xrange(i + 1):\n",
      "            vector1 = location_matrix.iloc[i,:]\n",
      "            vector2 = location_matrix.iloc[j,:]\n",
      "            vector1 = column[map(bool, vector1)]\n",
      "            vector2 = column[map(bool, vector2)]\n",
      "            df_jm[i,j] = jacard_index_location(vector1, vector2)\n",
      "    for i in xrange(n):\n",
      "        for j in xrange(n - 1 - i):\n",
      "            df_jm[i, j + 1 + i] = df_jm[j + 1 + i, i]             \n",
      "    return pd.DataFrame(df_jm, columns= location_matrix.index, index =  location_matrix.index)\n",
      "    \n",
      "    "
     ],
     "language": "python",
     "metadata": {},
     "outputs": [],
     "prompt_number": 3
    },
    {
     "cell_type": "code",
     "collapsed": false,
     "input": [
      "location_matrix = pd.read_csv('process environment/location_matrix.csv', index_col=0)"
     ],
     "language": "python",
     "metadata": {},
     "outputs": [],
     "prompt_number": 4
    },
    {
     "cell_type": "code",
     "collapsed": false,
     "input": [
      "# This function was already run once, the results are saved to jacard_matrix.csv\n",
      "# jacard_location = jacard_matrix_location(location_matrix)\n",
      "# jacard_location.to_csv('analysis_all_bacteria/jacard_matrix.csv', index_col = 0)"
     ],
     "language": "python",
     "metadata": {},
     "outputs": [],
     "prompt_number": 5
    },
    {
     "cell_type": "code",
     "collapsed": false,
     "input": [
      "jacard_location = pd.read_csv('analysis_all_bacteria/jacard_matrix.csv', index_col = 0)"
     ],
     "language": "python",
     "metadata": {},
     "outputs": [],
     "prompt_number": 7
    },
    {
     "cell_type": "code",
     "collapsed": false,
     "input": [],
     "language": "python",
     "metadata": {},
     "outputs": []
    },
    {
     "cell_type": "code",
     "collapsed": false,
     "input": [
      "test = np.array([[1, 2, 3], [1, 2, 3], [1, 2, 3]])\n",
      "test[0,:] = map(lambda x: x +3, [3, 2, 1])\n",
      "test"
     ],
     "language": "python",
     "metadata": {},
     "outputs": [
      {
       "metadata": {},
       "output_type": "pyout",
       "prompt_number": 55,
       "text": [
        "array([[6, 5, 4],\n",
        "       [1, 2, 3],\n",
        "       [1, 2, 3]])"
       ]
      }
     ],
     "prompt_number": 55
    },
    {
     "cell_type": "code",
     "collapsed": false,
     "input": [
      "[1] * 3\n"
     ],
     "language": "python",
     "metadata": {},
     "outputs": [
      {
       "metadata": {},
       "output_type": "pyout",
       "prompt_number": 13,
       "text": [
        "[1, 1, 1]"
       ]
      }
     ],
     "prompt_number": 13
    }
   ],
   "metadata": {}
  }
 ]
}