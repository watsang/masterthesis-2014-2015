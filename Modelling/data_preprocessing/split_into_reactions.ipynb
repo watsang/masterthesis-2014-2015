{
 "metadata": {
  "name": "split_into_reactions.ipynb"
 },
 "nbformat": 3,
 "nbformat_minor": 0,
 "worksheets": [
  {
   "cells": [
    {
     "cell_type": "code",
     "collapsed": false,
     "input": [
      "import pandas as pd\n",
      "import numpy  as np\n",
      "# import itertools\n",
      "import re\n",
      "import timeit\n",
      "import sys\n",
      "import networkx as nx"
     ],
     "language": "python",
     "metadata": {},
     "outputs": [],
     "prompt_number": 1
    },
    {
     "cell_type": "heading",
     "level": 3,
     "metadata": {},
     "source": [
      "0 Objective"
     ]
    },
    {
     "cell_type": "markdown",
     "metadata": {},
     "source": [
      "Creating a dictionary with organisms as search key and as return value full reaction descriptions."
     ]
    },
    {
     "cell_type": "heading",
     "level": 3,
     "metadata": {},
     "source": [
      "Step 0: defining all location_files"
     ]
    },
    {
     "cell_type": "code",
     "collapsed": false,
     "input": [
      "class Reaction:\n",
      "    '''\n",
      "    function to parse a reaction obtained from the the Seed annotation\n",
      "    '''\n",
      "    def __init__(self, equation, DG, DG_std):\n",
      "        self.eq = equation\n",
      "        self.left_stoich = self.parse_reaction(str(equation).split(\"=\")[0])\n",
      "        try:\n",
      "            self.right_stoich = self.parse_reaction(str(equation).split(\"=\")[1])\n",
      "        except ValueError:\n",
      "            print self.eq\n",
      "        try:\n",
      "            if DG > 1000:\n",
      "                self.DG = 0\n",
      "                self.DG_std = 10\n",
      "            else:\n",
      "                self.DG = float(DG)\n",
      "                self.DG_std = float(DG_std)        \n",
      "        except: \n",
      "            # if try fails, it is NAN\n",
      "            self.DG = 50\n",
      "            self.DG_std = 1     \n",
      "        self.exchanged = self.exchanged_compounds(str(equation))\n",
      "        \n",
      "    def __str__(self):\n",
      "        \"\"\"\n",
      "        Print the equation \n",
      "        \"\"\"\n",
      "        return self.eq\n",
      "   \n",
      "    def parse_reaction(self,r):\n",
      "        compounds = re.findall('cpd\\d+',r)\n",
      "        compounds_stoich = re.findall(r'\\(\\d+\\) cpd\\d+',r)\n",
      "        stoich_dict = {re.findall('cpd\\d+',c)[0]:int(re.findall(r'\\d+',c)[0]) for c in compounds_stoich}\n",
      "        stoichiometry = {}\n",
      "        for c in compounds:\n",
      "            if c in stoich_dict:\n",
      "                stoichiometry[c] = stoich_dict[c]\n",
      "            else:\n",
      "                stoichiometry[c] = 1\n",
      "        return stoichiometry\n",
      "    \n",
      "    def exchanged_compounds(self,r):\n",
      "        compounds = re.findall('cpd\\d+',r)\n",
      "        exchanged = re.findall(r'cpd\\d+\\[e\\]',r)\n",
      "        exch = []\n",
      "        for e in exchanged:\n",
      "            for c in compounds:\n",
      "                if re.match(c, e):\n",
      "                    exch.append(c)\n",
      "        return exch"
     ],
     "language": "python",
     "metadata": {},
     "outputs": [],
     "prompt_number": 2
    },
    {
     "cell_type": "code",
     "collapsed": false,
     "input": [
      "class Stoichiometric_model:\n",
      "    \"\"\"\n",
      "construct a metabolic model from the Seed file\n",
      "    \"\"\"\n",
      "    def __init__(self, DF):\n",
      "        self.N_reactions = DF.shape[0]\n",
      "        self.reactions = {DF.DATABASE[i]:Reaction(DF.EQUATION[i], DF['DELTAG (kcal/mol)'][i], DF['DELTAG ERROR (kcal/mol)'][i]) for i in range(self.N_reactions)} \n",
      "        self.make_compounds_list()\n",
      "        self.make_SM()\n",
      "        # self.list_exchanged_compounds()\n",
      "        self.free_space()\n",
      "        \n",
      "    def make_compounds_list(self):\n",
      "        compounds = []\n",
      "        for r in self.reactions.values():\n",
      "            compounds += r.right_stoich.keys()\n",
      "            compounds += r.left_stoich.keys()\n",
      "        self.compounds = list(set(compounds))\n",
      "        self.N_compounds = len(self.compounds)\n",
      "        \n",
      "    def free_space(self):\n",
      "        del self.reactions\n",
      "        del self.compounds\n",
      "        \n",
      "    def make_SM(self):\n",
      "        S = np.zeros((self.N_compounds, self.N_reactions))\n",
      "        for j in range(self.N_reactions):\n",
      "            c_left = self.reactions.values()[j].left_stoich\n",
      "            for c in c_left.keys():\n",
      "                i = self.compounds.index(c)\n",
      "                S[i,j] = -c_left[c]\n",
      "            c_right = self.reactions.values()[j].right_stoich\n",
      "            for c in c_right.keys():\n",
      "                i = self.compounds.index(c)\n",
      "                S[i,j] = c_right[c]\n",
      "        temp_df_stoichM = pd.DataFrame(S, index = self.compounds, columns = self.reactions.keys())\n",
      "        self.stoichM = temp_df_stoichM.to_sparse(fill_value = 0)\n",
      "        \n",
      "    def make_SMgraph(self):\n",
      "        self.graph = 0\n",
      "    \n",
      "    def __str__(self):\n",
      "        \"\"\"\n",
      "        return the adjacency matrix\n",
      "        \"\"\"\n",
      "        return self.stoichM\n",
      "    \n",
      "    def kill_self(self):\n",
      "        del self\n",
      "    \n",
      "    def list_exchanged_compounds(self):\n",
      "        self.exchanged = []\n",
      "        self.not_exchanged = self.compounds + []\n",
      "        for r in self.reactions.values():\n",
      "            for e in r.exchanged:\n",
      "                if e not in self.exchanged:\n",
      "                    self.exchanged.append(e)\n",
      "                if e in self.not_exchanged:\n",
      "                    self.not_exchanged.remove(e)\n",
      "        self.not_exch_ind = [self.compounds.index(r) for r in self.not_exchanged]  "
     ],
     "language": "python",
     "metadata": {},
     "outputs": [],
     "prompt_number": 3
    },
    {
     "cell_type": "code",
     "collapsed": false,
     "input": [
      "def stoichm_to_adjacencym(stoichMatrix):\n",
      "    \"\"\"\n",
      "    @param stoichMatrix: is a stoichiometrix matrix (pd.Dataframe type), where columns are reactions and rows are compounds\n",
      "    @return: adjacency matrix is returned\n",
      "    \"\"\"\n",
      "    # Convert sparse pd.Dataframe if necessary\n",
      "    try:\n",
      "        stoichMatrix = stoichMatrix.to_dense()\n",
      "    except:\n",
      "        pass\n",
      "    \n",
      "    n_compounds = stoichMatrix.shape[0]\n",
      "    n_reactions = stoichMatrix.shape[1]\n",
      "    adjacency_matrix = np.zeros(shape=(n_compounds, n_compounds))\n",
      "    \n",
      "    for n in xrange(n_compounds):\n",
      "        # Select columns where compound n is present in reaction\n",
      "        select= stoichMatrix[n:n+1]\n",
      "        select = ~select.isin([0])\n",
      "        \n",
      "        # Convert the selected columns to an array\n",
      "        values =  select.values[0]              \n",
      "    \n",
      "        # Select the column indices where compound n is present\n",
      "        columns= np.array(xrange(select.shape[1]))[values]  # \n",
      "    \n",
      "        # Return the reactions where compound n is present\n",
      "        react = stoichMatrix.iloc[:,columns].values\n",
      "    \n",
      "        # Loop over the reactions where compound n is present to construct the graph\n",
      "        for i in xrange(react.shape[1]): \n",
      "            if react[n,i] > 0:                   \n",
      "                # Only add compounds at the opposed part of the reaction \n",
      "                # f.e. for compound a in reaction: a + b => c + d\n",
      "                # Only compound c and d will be connected in a graph with compound a\n",
      "                # as compound b is at the same side of compound a\n",
      "                # a - - - c\n",
      "                # |       | \n",
      "                # d - - - b\n",
      "                connect = react[:,i] < 0\n",
      "            else:\n",
      "                connect = react[:,i] > 0\n",
      "                \n",
      "            for j in xrange(react.shape[0]):\n",
      "                if connect[j] == True:\n",
      "                    adjacency_matrix[j, n] = 1\n",
      "\n",
      "    # All elements on the diagonal are the negative sum of the elements in the columns\n",
      "    for i in xrange(n_compounds):\n",
      "        adjacency_matrix[i,i] = 0\n",
      "        adjacency_matrix[i,i] = -sum(adjacency_matrix[:,i])\n",
      "            \n",
      "    return adjacency_matrix\n",
      "        "
     ],
     "language": "python",
     "metadata": {},
     "outputs": [],
     "prompt_number": 4
    },
    {
     "cell_type": "code",
     "collapsed": false,
     "input": [
      "#########################################################################################\n",
      "# CHANGE THESE LOCATIONS TO THE ACCORDING locations where you stored these files!!! #####\n",
      "#########################################################################################\n",
      "\n",
      "loc_allgenomes = \"C:/Users/Tsang/Documents/univ/2014-2015/thesis/KERMIT/bacterial similarity/data mining/data_preprocessing/all_genomes.txt\"\n",
      "loc_reactions = \"C:/Users/Tsang/Documents/univ/2014-2015/thesis/KERMIT/bacterial similarity/data mining/data_preprocessing/table_with_reactions.txt\"\n",
      "loc_reaction_db = \"C:/Users/Tsang/Documents/univ/2014-2015/thesis/KERMIT/bacterial similarity/data mining/data_preprocessing/ModelSEED-reactions-db.csv\"\n",
      "loc_compound_db = \"C:/Users/Tsang/Documents/univ/2014-2015/thesis/KERMIT/bacterial similarity/data mining/data_preprocessing/ModelSEED-compounds-db.csv\""
     ],
     "language": "python",
     "metadata": {},
     "outputs": [],
     "prompt_number": 5
    },
    {
     "cell_type": "heading",
     "level": 3,
     "metadata": {},
     "source": [
      "Step 1: Making a dictionary with all organisms associated with their reactions"
     ]
    },
    {
     "cell_type": "markdown",
     "metadata": {},
     "source": [
      "A dictionary 'unique_names' is created with all reactions linked to the organism name. \n",
      "\n",
      "The organism name is a genome_id which is described by a number f.e. 2.4.\n",
      "\n",
      "The reactions are named by a short code such as 'rxn00011'. The full reaction description is looked up later in another dictionary."
     ]
    },
    {
     "cell_type": "code",
     "collapsed": false,
     "input": [
      "# Write all genome Ids with corresponding reactions to list_lines_reactions\n",
      "f = open(loc_reactions, \"r\")\n",
      "list_lines_reactions = []\n",
      "for line in f:\n",
      "    list_lines_reactions.append(line)\n",
      "f.close()\n",
      "del f"
     ],
     "language": "python",
     "metadata": {},
     "outputs": [],
     "prompt_number": 6
    },
    {
     "cell_type": "code",
     "collapsed": false,
     "input": [
      "# Split list_lines_reactions into two lists\n",
      "#     list_names     = a list with all genome_ids\n",
      "#     list_reactions = a list with all reactions corresponding with the index number of list_names\n",
      "\n",
      "# Select all the names \n",
      "list_names = [i.split('\\t',1)[0] for i in list_lines_reactions]\n",
      "\n",
      "# Select all reactions\n",
      "list_reactions = [i.split('\\t',2)[2] for i in list_lines_reactions]\n",
      "\n",
      "# Strip all '\\n' from reactions\n",
      "list_reactions = [i.strip('\\n') for i in list_reactions]\n",
      "\n",
      "# Delete list_lines_reactions\n",
      "del list_lines_reactions"
     ],
     "language": "python",
     "metadata": {},
     "outputs": [],
     "prompt_number": 7
    },
    {
     "cell_type": "code",
     "collapsed": false,
     "input": [
      "# Now link the reactions in list_reactions to the names in list_names with genome_id as key\n",
      "unique_names = {}\n",
      "\n",
      "# First initiliaze list in dictionary\n",
      "for name in list_names:\n",
      "    unique_names[name] =  []\n",
      "\n",
      "# Link all reactions to organisms in dictionary unique_names\n",
      "for i in xrange(len(list_names)):\n",
      "    unique_names[list_names[i]].append(list_reactions[i])\n",
      "\n",
      "# Remove used variable names\n",
      "del list_names, list_reactions"
     ],
     "language": "python",
     "metadata": {},
     "outputs": [],
     "prompt_number": 8
    },
    {
     "cell_type": "heading",
     "level": 3,
     "metadata": {},
     "source": [
      "Step 2: Making a dictionary with genome_ids associated with their full genome names"
     ]
    },
    {
     "cell_type": "code",
     "collapsed": false,
     "input": [
      "f_genomes = open(loc_allgenomes, \"r\")\n",
      "list_lines_genomes = []\n",
      "for line in f_genomes:\n",
      "    list_lines_genomes.append(line)\n",
      "f_genomes.close()"
     ],
     "language": "python",
     "metadata": {},
     "outputs": [],
     "prompt_number": 9
    },
    {
     "cell_type": "code",
     "collapsed": false,
     "input": [
      "# Create a list with genome_names, containing the full name of all genomes\n",
      "list_genome_names = [i.split('\\t',2)[0] for i in list_lines_genomes]\n",
      "# Create a list with genome_ids, containing the corresponding genome ids of list_genome_names\n",
      "list_genome_id = [i.split('\\t',2)[1] for i in list_lines_genomes]\n",
      "list_genome_id = [i.strip('\\n') for i in list_genome_id]\n",
      "# Link the full name of the genome names in a dictionary based on genome ids as keys\n",
      "dict_genome_id = {}\n",
      "for i in xrange(len(list_genome_id)):\n",
      "    dict_genome_id[list_genome_id[i]] = list_genome_names[i]\n",
      "    \n",
      "del list_lines_genomes, list_genome_names, list_genome_id\n",
      "    "
     ],
     "language": "python",
     "metadata": {},
     "outputs": [],
     "prompt_number": 10
    },
    {
     "cell_type": "code",
     "collapsed": false,
     "input": [
      "# print_example\n",
      "print dict_genome_id[dict_genome_id.keys()[100]]"
     ],
     "language": "python",
     "metadata": {},
     "outputs": [
      {
       "output_type": "stream",
       "stream": "stdout",
       "text": [
        "Acinetobacter baumannii ATCC 17978\n"
       ]
      }
     ],
     "prompt_number": 11
    },
    {
     "cell_type": "markdown",
     "metadata": {},
     "source": [
      "Not all organism_ids are in the list of genome_ids with full names\n",
      "So these are delted from the unique_names dictionary"
     ]
    },
    {
     "cell_type": "code",
     "collapsed": false,
     "input": [
      "len(unique_names.keys())"
     ],
     "language": "python",
     "metadata": {},
     "outputs": [
      {
       "metadata": {},
       "output_type": "pyout",
       "prompt_number": 12,
       "text": [
        "6350"
       ]
      }
     ],
     "prompt_number": 12
    },
    {
     "cell_type": "code",
     "collapsed": false,
     "input": [
      "temp_copy  = dict_genome_id.keys()\n",
      "for organism in unique_names.keys():\n",
      "    if organism not in temp_copy:\n",
      "        del unique_names[organism]\n",
      "        \n",
      "del temp_copy"
     ],
     "language": "python",
     "metadata": {},
     "outputs": [],
     "prompt_number": 13
    },
    {
     "cell_type": "code",
     "collapsed": false,
     "input": [
      "len(unique_names.keys())\n"
     ],
     "language": "python",
     "metadata": {},
     "outputs": [
      {
       "metadata": {},
       "output_type": "pyout",
       "prompt_number": 14,
       "text": [
        "3432"
       ]
      }
     ],
     "prompt_number": 14
    },
    {
     "cell_type": "code",
     "collapsed": false,
     "input": [
      "code_names = [str(name) for name in unique_names.keys()]\n",
      "full_names = [str(dict_genome_id[name]) for name in unique_names.keys()]\n",
      "df_available_genomes = pd.DataFrame({'code_name': unique_names.keys(), 'full_name': full_names})\n",
      "\n",
      "location_list = \"C:/Users/Tsang/Documents/univ/2014-2015/thesis/KERMIT/bacterial similarity/data mining/data_organism_reactions/Raw Reaction Matrices/Organism_names.csv\"\n",
      "df_available_genomes.to_csv(location_list, index = False)"
     ],
     "language": "python",
     "metadata": {},
     "outputs": [],
     "prompt_number": 15
    },
    {
     "cell_type": "heading",
     "level": 3,
     "metadata": {},
     "source": [
      "Step 3: Creating a dictionary dict_organism_reactions with full reaction description"
     ]
    },
    {
     "cell_type": "code",
     "collapsed": false,
     "input": [
      "df = pd.read_csv(loc_reaction_db)\n",
      "print df.columns"
     ],
     "language": "python",
     "metadata": {},
     "outputs": [
      {
       "output_type": "stream",
       "stream": "stdout",
       "text": [
        "Index([u'DATABASE', u'NAME', u'EC NUMBER(S)', u'KEGG ID(S)', u'DELTAG (kcal/mol)', u'DELTAG ERROR (kcal/mol)', u'EQUATION', u'NAME EQ', u'THERMODYNAMIC FEASIBILTY'], dtype='object')\n"
       ]
      }
     ],
     "prompt_number": 16
    },
    {
     "cell_type": "code",
     "collapsed": false,
     "input": [
      "df =  df.iloc[:,[0,4,5,6,7]]\n"
     ],
     "language": "python",
     "metadata": {},
     "outputs": [],
     "prompt_number": 17
    },
    {
     "cell_type": "code",
     "collapsed": false,
     "input": [
      "# Not all reactions in the reaction_database contain real reactions\n",
      "# The incomplete, faulty or missing reactions are filtered\n",
      "filter_eq = ['cpd' in equation for equation in df.EQUATION]\n",
      "df = df[filter_eq]\n",
      "df.index = range(df.shape[0])\n"
     ],
     "language": "python",
     "metadata": {},
     "outputs": [],
     "prompt_number": 18
    },
    {
     "cell_type": "code",
     "collapsed": false,
     "input": [
      "# This takes +- 20 sec\n",
      "\n",
      "start = timeit.default_timer()\n",
      "\n",
      "dict_organism_reactions = {}\n",
      "for organism in unique_names.keys():\n",
      "    temp_reaction_list = unique_names[organism]\n",
      "    temp_selection = df.DATABASE.isin(temp_reaction_list)\n",
      "    temp_df = df[temp_selection]\n",
      "    temp_df.index = xrange(temp_df.shape[0])\n",
      "    dict_organism_reactions[organism] = temp_df\n",
      "       \n",
      "print timeit.default_timer() - start        "
     ],
     "language": "python",
     "metadata": {},
     "outputs": [
      {
       "output_type": "stream",
       "stream": "stdout",
       "text": [
        "6.34847936363\n"
       ]
      }
     ],
     "prompt_number": 19
    },
    {
     "cell_type": "heading",
     "level": 3,
     "metadata": {},
     "source": [
      "Step 4: Creating dataframe for compounds"
     ]
    },
    {
     "cell_type": "code",
     "collapsed": false,
     "input": [
      "df_compound = pd.read_csv(loc_compound_db)"
     ],
     "language": "python",
     "metadata": {},
     "outputs": [],
     "prompt_number": 20
    },
    {
     "cell_type": "markdown",
     "metadata": {},
     "source": [
      "Check structure of one organisms with its reactions"
     ]
    },
    {
     "cell_type": "code",
     "collapsed": false,
     "input": [
      "name= dict_organism_reactions.keys()[0]\n",
      "dict_organism_reactions[name].head()"
     ],
     "language": "python",
     "metadata": {},
     "outputs": [
      {
       "html": [
        "<div style=\"max-height:1000px;max-width:1500px;overflow:auto;\">\n",
        "<table border=\"1\" class=\"dataframe\">\n",
        "  <thead>\n",
        "    <tr style=\"text-align: right;\">\n",
        "      <th></th>\n",
        "      <th>DATABASE</th>\n",
        "      <th>DELTAG (kcal/mol)</th>\n",
        "      <th>DELTAG ERROR (kcal/mol)</th>\n",
        "      <th>EQUATION</th>\n",
        "      <th>NAME EQ</th>\n",
        "    </tr>\n",
        "  </thead>\n",
        "  <tbody>\n",
        "    <tr>\n",
        "      <th>0</th>\n",
        "      <td> rxn05746</td>\n",
        "      <td> -3.1130</td>\n",
        "      <td> 0.692797</td>\n",
        "      <td>       cpd00001 + cpd01262 &lt;=&gt; cpd00027 + cpd00179</td>\n",
        "      <td>           H2O + Maltotriose &lt;=&gt; Glucose + Maltose</td>\n",
        "    </tr>\n",
        "    <tr>\n",
        "      <th>1</th>\n",
        "      <td> rxn05737</td>\n",
        "      <td>-71.9142</td>\n",
        "      <td> 2.156350</td>\n",
        "      <td> cpd00007 + cpd00210 + cpd01270 &lt;=&gt; cpd00001 + ...</td>\n",
        "      <td> O2 + Taurine + FMNH2 &lt;=&gt; H2O + FMN + HSO3- + A...</td>\n",
        "    </tr>\n",
        "    <tr>\n",
        "      <th>2</th>\n",
        "      <td> rxn05736</td>\n",
        "      <td> -2.4860</td>\n",
        "      <td> 1.231680</td>\n",
        "      <td> cpd00002 + cpd00010 + cpd00067 + cpd03847 &lt;=&gt; ...</td>\n",
        "      <td> ATP + CoA + H+ + Myristic acid &lt;=&gt; PPi + AMP +...</td>\n",
        "    </tr>\n",
        "    <tr>\n",
        "      <th>3</th>\n",
        "      <td> rxn05735</td>\n",
        "      <td> -9.8030</td>\n",
        "      <td> 1.176120</td>\n",
        "      <td> cpd00001 + cpd00003 + cpd04122 &lt;=&gt; cpd00004 + ...</td>\n",
        "      <td> H2O + NAD + Aminoacetaldehyde &lt;=&gt; NADH + Gly +...</td>\n",
        "    </tr>\n",
        "    <tr>\n",
        "      <th>4</th>\n",
        "      <td> rxn05734</td>\n",
        "      <td> -7.0630</td>\n",
        "      <td> 1.291030</td>\n",
        "      <td> cpd00001 + cpd00003 + cpd00040 &lt;=&gt; cpd00004 + ...</td>\n",
        "      <td>  H2O + NAD + Glyoxylate &lt;=&gt; NADH + 2 H+ + Oxalate</td>\n",
        "    </tr>\n",
        "  </tbody>\n",
        "</table>\n",
        "</div>"
       ],
       "metadata": {},
       "output_type": "pyout",
       "prompt_number": 21,
       "text": [
        "   DATABASE  DELTAG (kcal/mol)  DELTAG ERROR (kcal/mol)  \\\n",
        "0  rxn05746            -3.1130                 0.692797   \n",
        "1  rxn05737           -71.9142                 2.156350   \n",
        "2  rxn05736            -2.4860                 1.231680   \n",
        "3  rxn05735            -9.8030                 1.176120   \n",
        "4  rxn05734            -7.0630                 1.291030   \n",
        "\n",
        "                                            EQUATION  \\\n",
        "0        cpd00001 + cpd01262 <=> cpd00027 + cpd00179   \n",
        "1  cpd00007 + cpd00210 + cpd01270 <=> cpd00001 + ...   \n",
        "2  cpd00002 + cpd00010 + cpd00067 + cpd03847 <=> ...   \n",
        "3  cpd00001 + cpd00003 + cpd04122 <=> cpd00004 + ...   \n",
        "4  cpd00001 + cpd00003 + cpd00040 <=> cpd00004 + ...   \n",
        "\n",
        "                                             NAME EQ  \n",
        "0            H2O + Maltotriose <=> Glucose + Maltose  \n",
        "1  O2 + Taurine + FMNH2 <=> H2O + FMN + HSO3- + A...  \n",
        "2  ATP + CoA + H+ + Myristic acid <=> PPi + AMP +...  \n",
        "3  H2O + NAD + Aminoacetaldehyde <=> NADH + Gly +...  \n",
        "4   H2O + NAD + Glyoxylate <=> NADH + 2 H+ + Oxalate  "
       ]
      }
     ],
     "prompt_number": 21
    },
    {
     "cell_type": "heading",
     "level": 3,
     "metadata": {},
     "source": [
      "Step 5: Write away text files with raw reaction description"
     ]
    },
    {
     "cell_type": "code",
     "collapsed": false,
     "input": [
      "location_write = \"C:/Users/Tsang/Documents/univ/2014-2015/thesis/KERMIT/bacterial similarity/data mining/data_organism_reactions/Raw Reaction Matrices/\"\n",
      "format_to_write = \".txt\"\n",
      "\n",
      "for name in dict_organism_reactions.keys():\n",
      "    to_location = \"\".join([location_write, name, format_to_write])\n",
      "    write_raw_df = dict_organism_reactions[name]\n",
      "    write_raw_df.to_csv(to_location, sep = \"\\t\")"
     ],
     "language": "python",
     "metadata": {},
     "outputs": [],
     "prompt_number": 24
    },
    {
     "cell_type": "heading",
     "level": 3,
     "metadata": {},
     "source": [
      "Step 6: Write away stoichiometric matrix"
     ]
    },
    {
     "cell_type": "code",
     "collapsed": false,
     "input": [
      "location_write = \"C:/Users/Tsang/Documents/univ/2014-2015/thesis/KERMIT/bacterial similarity/data mining/data_organism_reactions/Stoichiometric Matrices/\"\n",
      "format_to_write = \".txt\"\n",
      "\n",
      "for name in dict_organism_reactions.keys():\n",
      "    temp_df = dict_organism_reactions[name]\n",
      "    temp_df = Stoichiometric_model(temp_df)\n",
      "    temp_df = temp_df.stoichM\n",
      "    temp_df = temp_df.to_dense()\n",
      "    temp_df = temp_df.astype(int)\n",
      "    loc = \"\".join([location_write, name, format_to_write])\n",
      "    temp_df.to_csv(loc)\n"
     ],
     "language": "python",
     "metadata": {},
     "outputs": [],
     "prompt_number": 22
    },
    {
     "cell_type": "heading",
     "level": 3,
     "metadata": {},
     "source": [
      "Bibliography"
     ]
    },
    {
     "cell_type": "markdown",
     "metadata": {},
     "source": [
      "Citing the Model SEED\n",
      "\n",
      "        Henry, C.S., DeJongh, M., Best, A.B., Frybarger, P.M., Linsay, B., and R.L. Stevens. High-throughput Generation and Optimization of Genome-scale Metabolic Models. Nature Biotechnology, (2010).\n"
     ]
    }
   ],
   "metadata": {}
  }
 ]
}